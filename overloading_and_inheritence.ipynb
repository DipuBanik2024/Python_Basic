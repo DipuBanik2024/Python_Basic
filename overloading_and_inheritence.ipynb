{
  "nbformat": 4,
  "nbformat_minor": 0,
  "metadata": {
    "colab": {
      "provenance": []
    },
    "kernelspec": {
      "name": "python3",
      "display_name": "Python 3"
    },
    "language_info": {
      "name": "python"
    }
  },
  "cells": [
    {
      "cell_type": "code",
      "source": [
        "class Student:\n",
        "   def __init__(self, name, id):\n",
        "    self.name = name\n",
        "    self.id = id\n",
        "\n",
        "   def __init__(self):\n",
        "    self.section = 'E'\n",
        "\n",
        "s = Student()"
      ],
      "metadata": {
        "id": "SnZCh4eudhTa"
      },
      "execution_count": null,
      "outputs": []
    },
    {
      "cell_type": "markdown",
      "source": [
        "# **Method overloading**"
      ],
      "metadata": {
        "id": "s7Xd07QJihtK"
      }
    },
    {
      "cell_type": "code",
      "source": [
        "class Calculator:\n",
        "  def add(self, num1,num2):\n",
        "    print(num1+num2)\n",
        "    print(\"from method 1\")\n",
        "\n",
        "  def add(self, num1,num2,num3):\n",
        "    print(num1+num2+num3)\n",
        "    print(\"from method 2\")\n",
        "\n",
        "c1 = Calculator()\n",
        "c1.add(1,2)\n",
        "c1.add(1,2,3)"
      ],
      "metadata": {
        "colab": {
          "base_uri": "https://localhost:8080/",
          "height": 201
        },
        "id": "iAhCMrafh6Wy",
        "outputId": "c3e27d25-60f8-448c-c0ad-e42f56b405f7"
      },
      "execution_count": null,
      "outputs": [
        {
          "output_type": "error",
          "ename": "TypeError",
          "evalue": "Calculator.add() missing 1 required positional argument: 'num3'",
          "traceback": [
            "\u001b[0;31m---------------------------------------------------------------------------\u001b[0m",
            "\u001b[0;31mTypeError\u001b[0m                                 Traceback (most recent call last)",
            "\u001b[0;32m<ipython-input-3-f771e7919a30>\u001b[0m in \u001b[0;36m<cell line: 0>\u001b[0;34m()\u001b[0m\n\u001b[1;32m      9\u001b[0m \u001b[0;34m\u001b[0m\u001b[0m\n\u001b[1;32m     10\u001b[0m \u001b[0mc1\u001b[0m \u001b[0;34m=\u001b[0m \u001b[0mCalculator\u001b[0m\u001b[0;34m(\u001b[0m\u001b[0;34m)\u001b[0m\u001b[0;34m\u001b[0m\u001b[0;34m\u001b[0m\u001b[0m\n\u001b[0;32m---> 11\u001b[0;31m \u001b[0mc1\u001b[0m\u001b[0;34m.\u001b[0m\u001b[0madd\u001b[0m\u001b[0;34m(\u001b[0m\u001b[0;36m1\u001b[0m\u001b[0;34m,\u001b[0m\u001b[0;36m2\u001b[0m\u001b[0;34m)\u001b[0m\u001b[0;34m\u001b[0m\u001b[0;34m\u001b[0m\u001b[0m\n\u001b[0m\u001b[1;32m     12\u001b[0m \u001b[0mc1\u001b[0m\u001b[0;34m.\u001b[0m\u001b[0madd\u001b[0m\u001b[0;34m(\u001b[0m\u001b[0;36m1\u001b[0m\u001b[0;34m,\u001b[0m\u001b[0;36m2\u001b[0m\u001b[0;34m,\u001b[0m\u001b[0;36m3\u001b[0m\u001b[0;34m)\u001b[0m\u001b[0;34m\u001b[0m\u001b[0;34m\u001b[0m\u001b[0m\n",
            "\u001b[0;31mTypeError\u001b[0m: Calculator.add() missing 1 required positional argument: 'num3'"
          ]
        }
      ]
    },
    {
      "cell_type": "code",
      "execution_count": null,
      "metadata": {
        "colab": {
          "base_uri": "https://localhost:8080/"
        },
        "id": "1HPT1GfcaHvs",
        "outputId": "775c93a3-7c42-42e0-f819-ad48ae21fc06"
      },
      "outputs": [
        {
          "output_type": "stream",
          "name": "stdout",
          "text": [
            "7\n"
          ]
        }
      ],
      "source": [
        "class Calculator:#Using Default Arguments\n",
        "  def add(self, num1=0,num2=0,num3=0):\n",
        "    print(num1+num2+num3)\n",
        "\n",
        "\n",
        "c = Calculator()\n",
        "c.add(2,2,3)"
      ]
    },
    {
      "cell_type": "code",
      "source": [
        "class Calculator:#Using Variable-Length Arguments\n",
        "  def add(self, *v):\n",
        "    return sum(v)\n",
        "\n",
        "c = Calculator()\n",
        "c.add(1,2)"
      ],
      "metadata": {
        "colab": {
          "base_uri": "https://localhost:8080/"
        },
        "id": "hw6B84lEbPNK",
        "outputId": "cdd8ea94-a4a1-4423-87dd-db7579a69a5d"
      },
      "execution_count": null,
      "outputs": [
        {
          "output_type": "execute_result",
          "data": {
            "text/plain": [
              "1"
            ]
          },
          "metadata": {},
          "execution_count": 6
        }
      ]
    },
    {
      "cell_type": "code",
      "source": [
        "#topic: method overloading\n",
        "class Calculator:\n",
        "  def add(self, num1=0,num2=0,num3=0):\n",
        "    print(num1+num2+num3)\n",
        "    print('this is from first method')\n",
        "\n",
        "  def add(self, *v):\n",
        "    print('this is from second method')\n",
        "    return sum(v)\n",
        "\n",
        "c1 = Calculator()\n",
        "c1.add(1)\n",
        "c1.add(1,2)\n",
        "c1.add(1,2,3)\n"
      ],
      "metadata": {
        "id": "I4fUozmUbjpd",
        "colab": {
          "base_uri": "https://localhost:8080/"
        },
        "outputId": "63d66102-1a8a-4080-d724-f83f5d20caae"
      },
      "execution_count": null,
      "outputs": [
        {
          "output_type": "stream",
          "name": "stdout",
          "text": [
            "this is from second method\n",
            "this is from second method\n",
            "this is from second method\n"
          ]
        },
        {
          "output_type": "execute_result",
          "data": {
            "text/plain": [
              "6"
            ]
          },
          "metadata": {},
          "execution_count": 6
        }
      ]
    },
    {
      "cell_type": "code",
      "source": [
        "from multipledispatch import dispatch\n",
        "\n",
        "\n",
        "class Calculator:\n",
        "\n",
        "  @dispatch(int,int)\n",
        "  def add(self, num1,num2):\n",
        "    print(num1+num2)\n",
        "    print(\"from method 1\")\n",
        "\n",
        "  @dispatch(int,int,int)\n",
        "  def add(self, num1,num2,num3):\n",
        "    print(num1+num2+num3)\n",
        "    print(\"from method 2\")\n",
        "\n",
        "  @dispatch(float,float)\n",
        "  def add(self, num1,num2):\n",
        "    print(num1+num2)\n",
        "    print(\"from method 3\")\n",
        "\n",
        "  @dispatch(int,float)\n",
        "  def add(self, num1,num2):\n",
        "    print(num1+num2)\n",
        "    print(\"from method 4\")\n",
        "\n",
        "c1 = Calculator()\n",
        "c1.add(1,2)\n",
        "c1.add(1,2.3)\n",
        "\n"
      ],
      "metadata": {
        "colab": {
          "base_uri": "https://localhost:8080/"
        },
        "id": "_X4bbx4uiDQd",
        "outputId": "c50ce990-f2f4-4827-d09a-805b7fe86ebf"
      },
      "execution_count": null,
      "outputs": [
        {
          "output_type": "stream",
          "name": "stdout",
          "text": [
            "3\n",
            "from method 1\n",
            "3.3\n",
            "from method 4\n"
          ]
        }
      ]
    },
    {
      "cell_type": "markdown",
      "source": [
        "# **Inheritance**"
      ],
      "metadata": {
        "id": "l3ccu1rnlSWO"
      }
    },
    {
      "cell_type": "code",
      "source": [
        "class Parent:\n",
        "    def parent_method(self):\n",
        "        print(\"This is the parent method.\")\n",
        "\n",
        "class Child(Parent):\n",
        "    def child_method(self):\n",
        "        print(\"This is the child method.\")\n",
        "\n",
        "c = Child()\n",
        "c.parent_method()\n",
        "c.child_method()\n",
        "p = Parent()\n",
        "p.parent_method()\n",
        "p.child_method()\n",
        "\n"
      ],
      "metadata": {
        "colab": {
          "base_uri": "https://localhost:8080/",
          "height": 256
        },
        "id": "aIioL1QXlWYP",
        "outputId": "a577d7f8-835e-41e7-9c13-ad5f61ed611a"
      },
      "execution_count": null,
      "outputs": [
        {
          "output_type": "stream",
          "name": "stdout",
          "text": [
            "This is the parent method.\n",
            "This is the child method.\n",
            "This is the parent method.\n"
          ]
        },
        {
          "output_type": "error",
          "ename": "AttributeError",
          "evalue": "'Parent' object has no attribute 'child_method'",
          "traceback": [
            "\u001b[0;31m---------------------------------------------------------------------------\u001b[0m",
            "\u001b[0;31mAttributeError\u001b[0m                            Traceback (most recent call last)",
            "\u001b[0;32m<ipython-input-10-092e3ed05ae2>\u001b[0m in \u001b[0;36m<cell line: 0>\u001b[0;34m()\u001b[0m\n\u001b[1;32m     12\u001b[0m \u001b[0mp\u001b[0m \u001b[0;34m=\u001b[0m \u001b[0mParent\u001b[0m\u001b[0;34m(\u001b[0m\u001b[0;34m)\u001b[0m\u001b[0;34m\u001b[0m\u001b[0;34m\u001b[0m\u001b[0m\n\u001b[1;32m     13\u001b[0m \u001b[0mp\u001b[0m\u001b[0;34m.\u001b[0m\u001b[0mparent_method\u001b[0m\u001b[0;34m(\u001b[0m\u001b[0;34m)\u001b[0m\u001b[0;34m\u001b[0m\u001b[0;34m\u001b[0m\u001b[0m\n\u001b[0;32m---> 14\u001b[0;31m \u001b[0mp\u001b[0m\u001b[0;34m.\u001b[0m\u001b[0mchild_method\u001b[0m\u001b[0;34m(\u001b[0m\u001b[0;34m)\u001b[0m\u001b[0;34m\u001b[0m\u001b[0;34m\u001b[0m\u001b[0m\n\u001b[0m\u001b[1;32m     15\u001b[0m \u001b[0;34m\u001b[0m\u001b[0m\n",
            "\u001b[0;31mAttributeError\u001b[0m: 'Parent' object has no attribute 'child_method'"
          ]
        }
      ]
    },
    {
      "cell_type": "code",
      "source": [
        "class Animal:\n",
        "    def __init__(self, name,a):\n",
        "        self.name = name\n",
        "        self.a = a\n",
        "        print('from parent constructor')\n",
        "\n",
        "    def speak(self):\n",
        "        print(self.name, 'makes a sound.')\n",
        "\n",
        "\n",
        "class Dog(Animal):\n",
        "    def __init__(self, name,a, breed):\n",
        "        super().__init__(name,a)\n",
        "        self.breed = breed\n",
        "        print(\"In child constructor\")\n",
        "\n",
        "\n",
        "    def bark(self):\n",
        "        ##print(self.name, \"the\",self.breed, \"barks!\")\n",
        "        print('anything')\n",
        "\n",
        "    def update_breed(self, new_breed):\n",
        "        self.breed = new_breed\n",
        "        print(self.breed)\n",
        "\n",
        "\n",
        "\n",
        "d = Dog('d1', 12, 'Labrador')\n",
        "d.speak()\n",
        "d.bark()\n",
        "d.update_breed('b2')\n",
        "\n"
      ],
      "metadata": {
        "colab": {
          "base_uri": "https://localhost:8080/"
        },
        "id": "DE1HvTNMlyOp",
        "outputId": "b1042420-d62d-499b-c1e3-f166ad378d6c"
      },
      "execution_count": null,
      "outputs": [
        {
          "output_type": "stream",
          "name": "stdout",
          "text": [
            "from parent constructor\n",
            "In child constructor\n",
            "d1 makes a sound.\n",
            "anything\n",
            "b2\n"
          ]
        }
      ]
    },
    {
      "cell_type": "code",
      "source": [
        "class Animal:\n",
        "  def __init__(self,name):\n",
        "    self.name = name\n",
        "    print('from parent constructor')\n",
        "\n",
        "class Dog(Animal):\n",
        "  def __init__(self,name,has_tail=True):\n",
        "    self.has_tail = has_tail\n",
        "    super().__init__(name)\n",
        "    print(\"In child constructor\")\n",
        "\n",
        "d = Dog('a')"
      ],
      "metadata": {
        "colab": {
          "base_uri": "https://localhost:8080/"
        },
        "id": "OEaqN19K99X6",
        "outputId": "40777341-6217-4175-df3b-461b1ece3187"
      },
      "execution_count": null,
      "outputs": [
        {
          "output_type": "stream",
          "name": "stdout",
          "text": [
            "from parent constructor\n",
            "In child constructor\n"
          ]
        }
      ]
    },
    {
      "cell_type": "code",
      "source": [
        "class Animal:\n",
        "    def __init__(self, name,a):\n",
        "        self.name = name\n",
        "        self.a = a\n",
        "        print('from parent constructor')\n",
        "\n",
        "class Dog(Animal):\n",
        "    def __init__(self,name, a, breed):\n",
        "        self.breed = breed\n",
        "        super().__init__(name,a)\n",
        "        print(\"In child constructor\")\n",
        "\n",
        "\n",
        "    def bark(self):\n",
        "        ##print(self.name, \"the\",self.breed, \"barks!\")\n",
        "        print('anything')\n",
        "\n",
        "    def update_breed(self, new_breed):\n",
        "        self.breed = new_breed\n",
        "        print(self.breed)\n",
        "\n",
        "\n",
        "\n",
        "d = Dog('d1', 12, 'breed1')\n",
        "d.bark()\n",
        "d.update_breed('b2')\n"
      ],
      "metadata": {
        "colab": {
          "base_uri": "https://localhost:8080/"
        },
        "id": "J3aMn63kG7mT",
        "outputId": "2cd54a4f-d8fe-4323-8126-dcc8fd53e928"
      },
      "execution_count": null,
      "outputs": [
        {
          "output_type": "stream",
          "name": "stdout",
          "text": [
            "from parent constructor\n",
            "In child constructor\n",
            "anything\n",
            "b2\n"
          ]
        }
      ]
    },
    {
      "cell_type": "markdown",
      "source": [
        "A Parent class Vehicle has a method start() that prints \"Vehicle started.\" The Child class Car inherits from Vehicle and can call start() to print \"Vehicle started\" while having its own method drive() to print \"Car is driving."
      ],
      "metadata": {
        "id": "Mg08BTyEm5_q"
      }
    },
    {
      "cell_type": "code",
      "source": [
        "class Vehicle:\n",
        "  def start(self):\n",
        "    print(\"Vehicle started\")\n",
        "\n",
        "class Car(Vehicle):\n",
        "  def drive(self):\n",
        "    print(\"Car is driving\")\n",
        "\n",
        "c = Car()\n",
        "c.start()\n",
        "c.drive()\n"
      ],
      "metadata": {
        "colab": {
          "base_uri": "https://localhost:8080/"
        },
        "id": "4-nh-jvwANqR",
        "outputId": "6b8a29f4-9cec-44e5-ab8b-f981f6df7986"
      },
      "execution_count": null,
      "outputs": [
        {
          "output_type": "stream",
          "name": "stdout",
          "text": [
            "Vehicle started\n",
            "Car is driving\n"
          ]
        }
      ]
    },
    {
      "cell_type": "code",
      "source": [
        "#multilevel\n",
        "class GrandParent:\n",
        "    def __init__(self, grandparent_name):\n",
        "        self.grandparent_name = grandparent_name\n",
        "        print(\"Grandparent constructor\")\n",
        "\n",
        "    def show_grandparent(self):\n",
        "        print(\"Grandparent:\", self.grandparent_name)\n",
        "\n",
        "class Parent(GrandParent):\n",
        "    def __init__(self, grandparent_name, parent_name):\n",
        "        super().__init__(grandparent_name)\n",
        "        self.parent_name = parent_name\n",
        "        print(\"Parent constructor\")\n",
        "\n",
        "    def show_parent(self):\n",
        "        print(\"Parent:\", self.parent_name)\n",
        "\n",
        "class Child(Parent):\n",
        "    def __init__(self,grandparent_name, parent_name, child_name):\n",
        "        super().__init__(grandparent_name, parent_name)\n",
        "        self.child_name = child_name\n",
        "        print(\"Child constructor\")\n",
        "\n",
        "    def show_child(self):\n",
        "        print(\"Child:\", self.child_name)\n",
        "\n",
        "    def child_method(self):\n",
        "        print('from child class')\n",
        "\n",
        "\n",
        "child = Child(\"Robert\", \"John\", \"Emily\")\n",
        "\n",
        "\n"
      ],
      "metadata": {
        "colab": {
          "base_uri": "https://localhost:8080/"
        },
        "id": "VK1z42F4dFWV",
        "outputId": "b6ae6341-f4a7-40cd-b451-3cf719119e93"
      },
      "execution_count": null,
      "outputs": [
        {
          "output_type": "stream",
          "name": "stdout",
          "text": [
            "Grandparent constructor\n",
            "Parent constructor\n",
            "Child constructor\n"
          ]
        }
      ]
    },
    {
      "cell_type": "code",
      "source": [
        "class A:\n",
        "  def __init__(self, a1,a2):\n",
        "    self.a1 = a1\n",
        "    self.a2 = a2\n",
        "    print('from parent constructor')\n",
        "\n",
        "  def update_value(self, z):\n",
        "    self.a2 = z\n",
        "\n",
        "class B(A):\n",
        "  def __init__(self,a1,a2,b1):\n",
        "    self.b1 = b1\n",
        "    super().__init__(a1,a2)\n",
        "    print('from child constructor')\n",
        "\n",
        "  def update_value(self, z):\n",
        "    self.a2 = z\n",
        "    pass\n",
        "\n",
        "  def sum_all_num(self,x,y,z):\n",
        "    print(self.a1 + self.a2 + self.b1)#60\n",
        "    print(x + y + z)#6\n",
        "\n",
        "\n",
        "obj_a = A(1,2)\n",
        "obj_b = B(10,20,30)\n",
        "obj_b.sum_all_num(1,2,3)\n"
      ],
      "metadata": {
        "colab": {
          "base_uri": "https://localhost:8080/"
        },
        "id": "2SCR6wby1Yjk",
        "outputId": "62e26729-12c0-4319-daa0-ab446c2f2557"
      },
      "execution_count": null,
      "outputs": [
        {
          "output_type": "stream",
          "name": "stdout",
          "text": [
            "from parent constructor\n",
            "from parent constructor\n",
            "from child constructor\n",
            "60\n",
            "6\n"
          ]
        }
      ]
    },
    {
      "cell_type": "code",
      "source": [
        "class CSE_309:\n",
        "  def __init__(self, no_of_students):\n",
        "    self.no_of_students = no_of_students\n",
        "\n",
        "  def update_value(self, z):\n",
        "    self.no_of_students += z\n",
        "\n",
        "obj = CSE_309(50)\n",
        "print(obj.no_of_students)\n",
        "obj.update_value(100)\n",
        "print(obj.no_of_students)"
      ],
      "metadata": {
        "colab": {
          "base_uri": "https://localhost:8080/"
        },
        "id": "j2VlVVedIYu6",
        "outputId": "46041ab4-78e7-488d-84ae-8e5bae6882a9"
      },
      "execution_count": null,
      "outputs": [
        {
          "output_type": "stream",
          "name": "stdout",
          "text": [
            "50\n",
            "150\n"
          ]
        }
      ]
    },
    {
      "cell_type": "code",
      "source": [
        "#multilevel\n",
        "class GrandParent:\n",
        "    def __init__(self, grandparent_name):\n",
        "        self.grandparent_name = grandparent_name\n",
        "\n",
        "    def show_grandparent(self):\n",
        "        print(\"Grandparent:\", self.grandparent_name)\n",
        "\n",
        "\n",
        "gp = GrandParent(\"Robert\")\n",
        "gp.show_grandparent()\n",
        "\n",
        "class Parent(GrandParent):\n",
        "    def __init__(self, grandparent_name, parent_name):\n",
        "        super().__init__(grandparent_name)\n",
        "        self.parent_name = parent_name\n",
        "\n",
        "    def show_parent(self):\n",
        "        print(\"Parent:\", self.parent_name)\n",
        "\n",
        "\n",
        "\n",
        "class Child(Parent):\n",
        "    def __init__(self, grandparent_name, parent_name, child_name):\n",
        "        super().__init__(grandparent_name, parent_name)\n",
        "        self.child_name = child_name\n",
        "\n",
        "    def show_child(self):\n",
        "        print(\"Child:\", self.child_name)\n",
        "\n",
        "\n",
        "\n",
        "child = Child(\"Robert\", \"John\", \"Emily\")\n",
        "child.show_grandparent()\n",
        "child.show_parent()\n",
        "child.show_child()\n"
      ],
      "metadata": {
        "colab": {
          "base_uri": "https://localhost:8080/"
        },
        "id": "K_biiPgMm7ba",
        "outputId": "b23bc8d7-7db1-45db-9e4a-5b29d1fbbafb"
      },
      "execution_count": null,
      "outputs": [
        {
          "output_type": "stream",
          "name": "stdout",
          "text": [
            "Grandparent: Robert\n",
            "Parent: John\n",
            "Child: Emily\n"
          ]
        }
      ]
    },
    {
      "cell_type": "code",
      "source": [
        "\n",
        "class Father:\n",
        "    def __init__(self, father_name):\n",
        "        self.father_name = father_name\n",
        "\n",
        "    def details(self):\n",
        "        print(\"From Father class\")\n",
        "\n",
        "class Mother:\n",
        "    def __init__(self, mother_name):\n",
        "        self.mother_name = mother_name\n",
        "\n",
        "    def details(self):\n",
        "        print(\"From mother class\")\n",
        "\n",
        "class Child(Mother, Father):\n",
        "    def __init__(self, father_name, mother_name, child_name):\n",
        "        Father.__init__(self, father_name)\n",
        "        Mother.__init__(self, mother_name)\n",
        "        self.child_name = child_name\n",
        "\n",
        "    def show_child(self):\n",
        "        print(f\"Child: {self.child_name}\")\n",
        "\n",
        "\n",
        "child = Child(\"John\", \"Jane\", \"Emily\")\n",
        "child.details()\n"
      ],
      "metadata": {
        "colab": {
          "base_uri": "https://localhost:8080/"
        },
        "id": "BBIVpkHSoXjE",
        "outputId": "26895bf2-2e8f-4a85-f006-b0e689010009"
      },
      "execution_count": null,
      "outputs": [
        {
          "output_type": "stream",
          "name": "stdout",
          "text": [
            "From mother class\n"
          ]
        }
      ]
    },
    {
      "cell_type": "code",
      "source": [
        "class Father:\n",
        "    def __init__(self, father_name):\n",
        "        self.father_name = father_name\n",
        "\n",
        "    def show_father(self):\n",
        "        print(f\"Father: {self.father_name}\")\n",
        "\n",
        "class Mother:\n",
        "    def __init__(self, mother_name):\n",
        "        self.mother_name = mother_name\n",
        "\n",
        "    def show_mother(self):\n",
        "        print(f\"Mother: {self.mother_name}\")\n",
        "\n",
        "class Child(Father, Mother):\n",
        "    def __init__(self, father_name, mother_name, child_name):\n",
        "        Father.__init__(self, father_name)\n",
        "        Mother.__init__(self, mother_name)\n",
        "        self.child_name = child_name\n",
        "\n",
        "    def show_child(self):\n",
        "        print(f\"Child: {self.child_name}\")\n",
        "\n",
        "\n",
        "child = Child(\"John\", \"Jane\", \"Emily\")\n",
        "child.show_father()\n",
        "child.show_mother()\n",
        "child.show_child()\n"
      ],
      "metadata": {
        "colab": {
          "base_uri": "https://localhost:8080/"
        },
        "id": "ZLdwj7leA39q",
        "outputId": "f165d57e-ad57-40e5-e2d8-50bb821770c6"
      },
      "execution_count": null,
      "outputs": [
        {
          "output_type": "stream",
          "name": "stdout",
          "text": [
            "Father: John\n",
            "Mother: Jane\n",
            "Child: Emily\n"
          ]
        }
      ]
    },
    {
      "cell_type": "code",
      "source": [
        "class A:\n",
        "    def show(self):\n",
        "        print(\"Class A\")\n",
        "\n",
        "class B:\n",
        "    def show(self):\n",
        "        print(\"Class B\")\n",
        "\n",
        "\n",
        "class C(A, B):\n",
        "    pass\n",
        "\n",
        "obj = C()\n",
        "obj.show()\n"
      ],
      "metadata": {
        "id": "nEzcVQwMC45i"
      },
      "execution_count": null,
      "outputs": []
    }
  ]
}