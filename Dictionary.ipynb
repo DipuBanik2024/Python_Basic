{
  "nbformat": 4,
  "nbformat_minor": 0,
  "metadata": {
    "colab": {
      "provenance": []
    },
    "kernelspec": {
      "name": "python3",
      "display_name": "Python 3"
    },
    "language_info": {
      "name": "python"
    }
  },
  "cells": [
    {
      "cell_type": "markdown",
      "source": [
        "# **Dictionary**"
      ],
      "metadata": {
        "id": "T9cC6Loc5MTT"
      }
    },
    {
      "cell_type": "code",
      "source": [
        "students = {'22101011': 'Urmi',\n",
        "            '22101012': 'Sajid',\n",
        "            '22101013': 'Toma'}\n",
        "print(students)\n",
        "print(type(students))"
      ],
      "metadata": {
        "colab": {
          "base_uri": "https://localhost:8080/"
        },
        "id": "mhgYA2bO5Jmy",
        "outputId": "616ada39-1e4d-4857-e905-e8a91706d0d5"
      },
      "execution_count": null,
      "outputs": [
        {
          "output_type": "stream",
          "name": "stdout",
          "text": [
            "{'22101011': 'Urmi', '22101012': 'Sajid', '22101013': 'Toma'}\n",
            "<class 'dict'>\n"
          ]
        }
      ]
    },
    {
      "cell_type": "code",
      "source": [
        "print(students['22101012'])"
      ],
      "metadata": {
        "id": "0ukF4olv5L3y"
      },
      "execution_count": null,
      "outputs": []
    },
    {
      "cell_type": "code",
      "source": [
        "students['22101011'] = 'Asif'"
      ],
      "metadata": {
        "id": "bCDErCV45L6o"
      },
      "execution_count": null,
      "outputs": []
    },
    {
      "cell_type": "code",
      "source": [
        "print(students)"
      ],
      "metadata": {
        "colab": {
          "base_uri": "https://localhost:8080/"
        },
        "id": "DnxRYX-K5L9q",
        "outputId": "fd895ef8-eec4-4afe-f531-8e45578eaf3d"
      },
      "execution_count": null,
      "outputs": [
        {
          "output_type": "stream",
          "name": "stdout",
          "text": [
            "{'22101011': 'Asif', '22101012': 'Sajid', '22101013': 'Toma'}\n"
          ]
        }
      ]
    },
    {
      "cell_type": "code",
      "source": [
        "students['22101020']= 'Nusrat'"
      ],
      "metadata": {
        "id": "jyCSpzIU5JpR"
      },
      "execution_count": null,
      "outputs": []
    },
    {
      "cell_type": "code",
      "source": [
        "print(students)\n",
        "students['22101014'] = 'Nawmi'\n",
        "print(students)"
      ],
      "metadata": {
        "colab": {
          "base_uri": "https://localhost:8080/"
        },
        "id": "CZffpEUv5JsB",
        "outputId": "aa1347d0-73a5-4fca-e696-de44ab831ebf"
      },
      "execution_count": null,
      "outputs": [
        {
          "output_type": "stream",
          "name": "stdout",
          "text": [
            "{'22101011': 'Asif', '22101012': 'Sajid', '22101013': 'Toma', '22101020': 'Nusrat'}\n",
            "{'22101011': 'Asif', '22101012': 'Sajid', '22101013': 'Toma', '22101020': 'Nusrat', '22101014': 'Nawmi'}\n"
          ]
        }
      ]
    },
    {
      "cell_type": "code",
      "source": [
        "print(students['Akash'])"
      ],
      "metadata": {
        "colab": {
          "base_uri": "https://localhost:8080/",
          "height": 146
        },
        "id": "uPqxaaAT5Jut",
        "outputId": "28124b03-464b-476f-b8f4-cb93a52d9c4f"
      },
      "execution_count": null,
      "outputs": [
        {
          "output_type": "error",
          "ename": "KeyError",
          "evalue": "'Akash'",
          "traceback": [
            "\u001b[0;31m---------------------------------------------------------------------------\u001b[0m",
            "\u001b[0;31mKeyError\u001b[0m                                  Traceback (most recent call last)",
            "\u001b[0;32m<ipython-input-7-1132e6ffd83e>\u001b[0m in \u001b[0;36m<cell line: 0>\u001b[0;34m()\u001b[0m\n\u001b[0;32m----> 1\u001b[0;31m \u001b[0mprint\u001b[0m\u001b[0;34m(\u001b[0m\u001b[0mstudents\u001b[0m\u001b[0;34m[\u001b[0m\u001b[0;34m'Akash'\u001b[0m\u001b[0;34m]\u001b[0m\u001b[0;34m)\u001b[0m\u001b[0;34m\u001b[0m\u001b[0;34m\u001b[0m\u001b[0m\n\u001b[0m",
            "\u001b[0;31mKeyError\u001b[0m: 'Akash'"
          ]
        }
      ]
    },
    {
      "cell_type": "code",
      "source": [
        "print(students)"
      ],
      "metadata": {
        "colab": {
          "base_uri": "https://localhost:8080/"
        },
        "id": "bkw1kr085JxO",
        "outputId": "067a13a2-ee81-443c-c986-cb6fde705f77"
      },
      "execution_count": null,
      "outputs": [
        {
          "output_type": "stream",
          "name": "stdout",
          "text": [
            "{'22101011': 'Asif', '22101012': 'Sajid', '22101013': 'Toma', '22101020': 'Nusrat', '22101014': 'Nawmi'}\n"
          ]
        }
      ]
    },
    {
      "cell_type": "code",
      "source": [
        "students.get('22101011')"
      ],
      "metadata": {
        "colab": {
          "base_uri": "https://localhost:8080/",
          "height": 36
        },
        "id": "Tk6qDJer5J0E",
        "outputId": "995867e1-7583-48bf-959b-00eba8a8d514"
      },
      "execution_count": null,
      "outputs": [
        {
          "output_type": "execute_result",
          "data": {
            "text/plain": [
              "'Asif'"
            ],
            "application/vnd.google.colaboratory.intrinsic+json": {
              "type": "string"
            }
          },
          "metadata": {},
          "execution_count": 9
        }
      ]
    },
    {
      "cell_type": "code",
      "source": [
        "print(students.keys())\n",
        "print(students.values())\n",
        "print(students.items())"
      ],
      "metadata": {
        "colab": {
          "base_uri": "https://localhost:8080/"
        },
        "id": "ggJ-IAeF5J2z",
        "outputId": "0f96997b-28af-4e6f-a249-ada80e926f72"
      },
      "execution_count": null,
      "outputs": [
        {
          "output_type": "stream",
          "name": "stdout",
          "text": [
            "dict_keys(['22101011', '22101012', '22101013', '22101020', '22101014'])\n",
            "dict_values(['Asif', 'Sajid', 'Toma', 'Nusrat', 'Nawmi'])\n",
            "dict_items([('22101011', 'Asif'), ('22101012', 'Sajid'), ('22101013', 'Toma'), ('22101020', 'Nusrat'), ('22101014', 'Nawmi')])\n"
          ]
        }
      ]
    },
    {
      "cell_type": "code",
      "source": [
        "students['22101014'] = 'Nabila'\n",
        "print(students)"
      ],
      "metadata": {
        "colab": {
          "base_uri": "https://localhost:8080/"
        },
        "id": "AG-AEfLv5J5L",
        "outputId": "91c465b2-d98f-4991-f507-d18933536fe8"
      },
      "execution_count": null,
      "outputs": [
        {
          "output_type": "stream",
          "name": "stdout",
          "text": [
            "{'22101011': 'Asif', '22101012': 'Sajid', '22101013': 'Toma', '22101020': 'Nusrat', '22101014': 'Nabila'}\n"
          ]
        }
      ]
    },
    {
      "cell_type": "code",
      "source": [
        "print(students)"
      ],
      "metadata": {
        "colab": {
          "base_uri": "https://localhost:8080/"
        },
        "id": "kXjKrMTt5J8D",
        "outputId": "ef10c739-ca27-4872-a391-4f0fb9ad1a02"
      },
      "execution_count": null,
      "outputs": [
        {
          "output_type": "stream",
          "name": "stdout",
          "text": [
            "{'22101011': 'Asif', '22101012': 'Sajid', '22101013': 'Toma', '22101020': 'Nusrat', '22101014': 'Nabila'}\n"
          ]
        }
      ]
    },
    {
      "cell_type": "code",
      "source": [
        "students.update({'22101011': 'Peter', '22101022': 'David'})\n",
        "print(students)"
      ],
      "metadata": {
        "colab": {
          "base_uri": "https://localhost:8080/"
        },
        "id": "l4a-eJ5q5r2X",
        "outputId": "5e83110e-ec87-4dba-e471-e62862f756f4"
      },
      "execution_count": null,
      "outputs": [
        {
          "output_type": "stream",
          "name": "stdout",
          "text": [
            "{'22101011': 'Peter', '22101012': 'Sajid', '22101013': 'Toma', '22101020': 'Nusrat', '22101014': 'Nabila', '22101022': 'David'}\n"
          ]
        }
      ]
    },
    {
      "cell_type": "code",
      "source": [
        "print(students.pop('22101011'))\n",
        "print(students)"
      ],
      "metadata": {
        "colab": {
          "base_uri": "https://localhost:8080/"
        },
        "id": "10hBkmUG5r5O",
        "outputId": "5fd719b5-fe5e-48da-b624-5649d3f17691"
      },
      "execution_count": null,
      "outputs": [
        {
          "output_type": "stream",
          "name": "stdout",
          "text": [
            "Peter\n",
            "{'22101012': 'Sajid', '22101013': 'Toma', '22101020': 'Nusrat', '22101014': 'Nabila', '22101022': 'David'}\n"
          ]
        }
      ]
    },
    {
      "cell_type": "code",
      "source": [
        "item = students.popitem()\n",
        "print(item)\n",
        "print(students)"
      ],
      "metadata": {
        "colab": {
          "base_uri": "https://localhost:8080/"
        },
        "id": "xGhcFnxP5r70",
        "outputId": "9a2a69d0-a3bb-412e-866a-81d08ba6aa1a"
      },
      "execution_count": null,
      "outputs": [
        {
          "output_type": "stream",
          "name": "stdout",
          "text": [
            "('22101022', 'David')\n",
            "{'22101012': 'Sajid', '22101013': 'Toma', '22101020': 'Nusrat', '22101014': 'Nabila'}\n"
          ]
        }
      ]
    },
    {
      "cell_type": "code",
      "source": [
        "students.clear()\n",
        "print(students)"
      ],
      "metadata": {
        "colab": {
          "base_uri": "https://localhost:8080/"
        },
        "id": "M8Ko0O0a5r-c",
        "outputId": "5cd4e558-b412-4957-d2a6-72539a0cce6b"
      },
      "execution_count": null,
      "outputs": [
        {
          "output_type": "stream",
          "name": "stdout",
          "text": [
            "{}\n"
          ]
        }
      ]
    },
    {
      "cell_type": "code",
      "source": [
        "del students\n",
        "print(students)"
      ],
      "metadata": {
        "colab": {
          "base_uri": "https://localhost:8080/",
          "height": 164
        },
        "id": "wQYvuhhS5sBI",
        "outputId": "7eaf2e43-5173-4a31-f40b-6b80d2be2281"
      },
      "execution_count": null,
      "outputs": [
        {
          "output_type": "error",
          "ename": "NameError",
          "evalue": "name 'students' is not defined",
          "traceback": [
            "\u001b[0;31m---------------------------------------------------------------------------\u001b[0m",
            "\u001b[0;31mNameError\u001b[0m                                 Traceback (most recent call last)",
            "\u001b[0;32m<ipython-input-17-dbb51843fee9>\u001b[0m in \u001b[0;36m<cell line: 0>\u001b[0;34m()\u001b[0m\n\u001b[1;32m      1\u001b[0m \u001b[0;32mdel\u001b[0m \u001b[0mstudents\u001b[0m\u001b[0;34m\u001b[0m\u001b[0;34m\u001b[0m\u001b[0m\n\u001b[0;32m----> 2\u001b[0;31m \u001b[0mprint\u001b[0m\u001b[0;34m(\u001b[0m\u001b[0mstudents\u001b[0m\u001b[0;34m)\u001b[0m\u001b[0;34m\u001b[0m\u001b[0;34m\u001b[0m\u001b[0m\n\u001b[0m",
            "\u001b[0;31mNameError\u001b[0m: name 'students' is not defined"
          ]
        }
      ]
    },
    {
      "cell_type": "code",
      "source": [
        "students = {'22101011': 'Fahim',\n",
        "            '22101012': 'Borhan',\n",
        "            '22101013': 'Mostak'}\n",
        "students_copy = students\n",
        "print(students_copy)"
      ],
      "metadata": {
        "colab": {
          "base_uri": "https://localhost:8080/"
        },
        "id": "SUIcgymw54zt",
        "outputId": "fb8227ef-c658-43a2-cb8a-f7946e609190"
      },
      "execution_count": null,
      "outputs": [
        {
          "output_type": "stream",
          "name": "stdout",
          "text": [
            "{'22101011': 'Fahim', '22101012': 'Borhan', '22101013': 'Mostak'}\n"
          ]
        }
      ]
    },
    {
      "cell_type": "code",
      "source": [
        "students_copy['22101011'] = 'Peter'\n",
        "print(students_copy)\n",
        "print(students)"
      ],
      "metadata": {
        "colab": {
          "base_uri": "https://localhost:8080/"
        },
        "id": "aJk9iFTj542e",
        "outputId": "993a0ed7-b77c-49e1-f42b-9ae5813890c1"
      },
      "execution_count": null,
      "outputs": [
        {
          "output_type": "stream",
          "name": "stdout",
          "text": [
            "{'22101011': 'Peter', '22101012': 'Borhan', '22101013': 'Mostak'}\n",
            "{'22101011': 'Peter', '22101012': 'Borhan', '22101013': 'Mostak'}\n"
          ]
        }
      ]
    },
    {
      "cell_type": "code",
      "source": [
        "# prompt: COPY OF dictionary\n",
        "\n",
        "students = {'22101011': 'David',\n",
        "            '22101012': 'John',\n",
        "            '22101013': 'Mary'}\n",
        "\n",
        "# Method 1: Using the copy() method\n",
        "students2 = students.copy()\n",
        "print(students2)\n",
        "\n",
        "# Method 2: Using dict() constructor\n",
        "students3 = dict(students)\n",
        "print(students3)"
      ],
      "metadata": {
        "colab": {
          "base_uri": "https://localhost:8080/"
        },
        "id": "7OnWWTz26EOX",
        "outputId": "0eff52fe-436a-49bc-d1c3-bdfd570b2d54"
      },
      "execution_count": null,
      "outputs": [
        {
          "output_type": "stream",
          "name": "stdout",
          "text": [
            "{'22101011': 'David', '22101012': 'John', '22101013': 'Mary'}\n",
            "{'22101011': 'David', '22101012': 'John', '22101013': 'Mary'}\n"
          ]
        }
      ]
    },
    {
      "cell_type": "code",
      "source": [
        "students2['22101011'] = 'Jemmy'\n",
        "print(students2)\n",
        "print(students)"
      ],
      "metadata": {
        "colab": {
          "base_uri": "https://localhost:8080/"
        },
        "id": "PWSmc2ZS6ERY",
        "outputId": "d047ddf1-6517-4883-ff25-2ae59f8c4822"
      },
      "execution_count": null,
      "outputs": [
        {
          "output_type": "stream",
          "name": "stdout",
          "text": [
            "{'22101011': 'Jemmy', '22101012': 'John', '22101013': 'Mary'}\n",
            "{'22101011': 'David', '22101012': 'John', '22101013': 'Mary'}\n"
          ]
        }
      ]
    },
    {
      "cell_type": "code",
      "source": [
        "list1= [1,10,25]\n",
        "list2 = list1\n",
        "print(list2)\n",
        "list2[0] = 100\n",
        "print(list2)\n",
        "print(list1)"
      ],
      "metadata": {
        "colab": {
          "base_uri": "https://localhost:8080/"
        },
        "id": "cW0s1a8T548P",
        "outputId": "96b6ab6e-fedf-4192-a39e-6da4917310a4"
      },
      "execution_count": null,
      "outputs": [
        {
          "output_type": "stream",
          "name": "stdout",
          "text": [
            "[1, 10, 25]\n",
            "[100, 10, 25]\n",
            "[100, 10, 25]\n"
          ]
        }
      ]
    },
    {
      "cell_type": "markdown",
      "source": [
        "Write a Python program that defines a function to take multiple lists as input. Each list represents the marks of a student. The function should calculate the total marks for each student and return the highest total among them."
      ],
      "metadata": {
        "id": "unOBrim-5kir"
      }
    },
    {
      "cell_type": "code",
      "execution_count": null,
      "metadata": {
        "colab": {
          "base_uri": "https://localhost:8080/"
        },
        "id": "_1pffrd_4YxK",
        "outputId": "28b54f2d-14b8-4dfe-fe32-9056a964ede5"
      },
      "outputs": [
        {
          "output_type": "stream",
          "name": "stdout",
          "text": [
            "The highest total marks among all students: 272\n"
          ]
        }
      ],
      "source": [
        "def highest_total_marks(*student_marks):\n",
        "  new_list = []\n",
        "  for marks in student_marks:\n",
        "    new_list.append(sum(marks))\n",
        "  highest_total = max(new_list)\n",
        "  return highest_total\n",
        "\n",
        "student1_marks = [80, 90, 75]\n",
        "student2_marks = [95, 85, 92]\n",
        "student3_marks = [70, 80, 88]\n",
        "\n",
        "highest_marks = highest_total_marks(student1_marks, student2_marks, student3_marks)\n",
        "print(f\"The highest total marks among all students: {highest_marks}\")\n"
      ]
    },
    {
      "cell_type": "markdown",
      "source": [],
      "metadata": {
        "id": "P-qya66o6I81"
      }
    }
  ]
}