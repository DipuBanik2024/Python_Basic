{
  "nbformat": 4,
  "nbformat_minor": 0,
  "metadata": {
    "colab": {
      "provenance": []
    },
    "kernelspec": {
      "name": "python3",
      "display_name": "Python 3"
    },
    "language_info": {
      "name": "python"
    }
  },
  "cells": [
    {
      "cell_type": "markdown",
      "source": [
        "# **Topic: Basic Print in Python**"
      ],
      "metadata": {
        "id": "FTo0oDrecjOo"
      }
    },
    {
      "cell_type": "code",
      "execution_count": null,
      "metadata": {
        "id": "Eh3qSmEiYJ8K",
        "colab": {
          "base_uri": "https://localhost:8080/"
        },
        "outputId": "7b940032-ef4c-4d3a-de72-eac18f76f416"
      },
      "outputs": [
        {
          "output_type": "stream",
          "name": "stdout",
          "text": [
            "Hello class!\n",
            "Welcome to CSE 309 course!\n"
          ]
        }
      ],
      "source": [
        "print(\"Hello class!\")\n",
        "print('Welcome to CSE 309 course!')"
      ]
    },
    {
      "cell_type": "code",
      "source": [
        "print(22101011)\n"
      ],
      "metadata": {
        "colab": {
          "base_uri": "https://localhost:8080/"
        },
        "id": "jxW5_8PmdQmg",
        "outputId": "b3c9fd1c-4e38-45dc-a1ec-81808e40426c"
      },
      "execution_count": null,
      "outputs": [
        {
          "output_type": "stream",
          "name": "stdout",
          "text": [
            "22101011\n"
          ]
        }
      ]
    },
    {
      "cell_type": "code",
      "source": [
        "print(100.45)"
      ],
      "metadata": {
        "colab": {
          "base_uri": "https://localhost:8080/"
        },
        "id": "P_zvrtfGdQpS",
        "outputId": "8f3603fd-3874-459e-c8c7-872d0f4ffe54"
      },
      "execution_count": null,
      "outputs": [
        {
          "output_type": "stream",
          "name": "stdout",
          "text": [
            "100.45\n"
          ]
        }
      ]
    },
    {
      "cell_type": "code",
      "source": [
        "print('My id is: ', 2310106)"
      ],
      "metadata": {
        "colab": {
          "base_uri": "https://localhost:8080/"
        },
        "id": "Y7VnJ_DZdQr0",
        "outputId": "51582230-48e0-492a-b83d-2240d4cbb6dd"
      },
      "execution_count": null,
      "outputs": [
        {
          "output_type": "stream",
          "name": "stdout",
          "text": [
            "My id is:  2310106\n"
          ]
        }
      ]
    },
    {
      "cell_type": "code",
      "source": [],
      "metadata": {
        "id": "COlOaVajqKhK"
      },
      "execution_count": null,
      "outputs": []
    },
    {
      "cell_type": "code",
      "source": [
        "print(\"I'm\", 20, \"years old\")"
      ],
      "metadata": {
        "colab": {
          "base_uri": "https://localhost:8080/"
        },
        "id": "FYVx2B9SdQu1",
        "outputId": "f8c029b6-fd9a-4a0f-9f89-1cb798928b43",
        "collapsed": true
      },
      "execution_count": null,
      "outputs": [
        {
          "output_type": "stream",
          "name": "stdout",
          "text": [
            "I'm 20 years old\n"
          ]
        }
      ]
    },
    {
      "cell_type": "markdown",
      "source": [],
      "metadata": {
        "id": "iz3Fc7ocmO5q"
      }
    },
    {
      "cell_type": "code",
      "source": [
        "print(\"Line 1\\nLine 2\")   # Newline\n",
        "print(\"Tab\\tseparated\")   # Tab\n",
        "print(\"Quote: 'Hello'\") # Double quote"
      ],
      "metadata": {
        "colab": {
          "base_uri": "https://localhost:8080/"
        },
        "id": "OHYpCRTldQyQ",
        "outputId": "c457abef-1765-4a93-d4a2-44e106172522",
        "collapsed": true
      },
      "execution_count": null,
      "outputs": [
        {
          "output_type": "stream",
          "name": "stdout",
          "text": [
            "Line 1\n",
            "Line 2\n",
            "Tab\tseparated\n",
            "Quote: 'Hello'\n"
          ]
        }
      ]
    },
    {
      "cell_type": "code",
      "source": [
        "print('It\\'s raining outside')\n",
        "print(\"It's raining outside\")"
      ],
      "metadata": {
        "colab": {
          "base_uri": "https://localhost:8080/"
        },
        "id": "8_fCSsa_4qg_",
        "outputId": "b346421b-0769-439b-942e-a94abd23ee99"
      },
      "execution_count": null,
      "outputs": [
        {
          "output_type": "stream",
          "name": "stdout",
          "text": [
            "It's raining outside\n",
            "It's raining outside\n"
          ]
        }
      ]
    },
    {
      "cell_type": "code",
      "source": [
        "print('He says -\"Hello\"')"
      ],
      "metadata": {
        "colab": {
          "base_uri": "https://localhost:8080/"
        },
        "id": "kiL1XW_aq20T",
        "outputId": "54d725b4-d008-44e0-9b82-e2af239503a4"
      },
      "execution_count": null,
      "outputs": [
        {
          "output_type": "stream",
          "name": "stdout",
          "text": [
            "He says -\"Hello\"\n"
          ]
        }
      ]
    },
    {
      "cell_type": "markdown",
      "source": [
        "**Is the number of spaces the same here?**"
      ],
      "metadata": {
        "id": "qcWvDUScfLW7"
      }
    },
    {
      "cell_type": "code",
      "source": [
        "print(\"Tab\\tseparated\")\n",
        "print(\"Tab \\t separated\")"
      ],
      "metadata": {
        "colab": {
          "base_uri": "https://localhost:8080/"
        },
        "id": "ma6zFLzGe-W6",
        "outputId": "900c40eb-a3eb-4492-ffd6-67774df9d746"
      },
      "execution_count": null,
      "outputs": [
        {
          "output_type": "stream",
          "name": "stdout",
          "text": [
            "Tab\tseparated\n",
            "Tab \t separated\n"
          ]
        }
      ]
    },
    {
      "cell_type": "markdown",
      "source": [
        "# **Topic: Simple value assigning**"
      ],
      "metadata": {
        "id": "blPaZmcggy3K"
      }
    },
    {
      "cell_type": "code",
      "source": [
        "x = 10\n",
        "y = 3.987654\n",
        "name = \"Python\"\n",
        "is_snake = False\n",
        "multiline_string = \"\"\"This is a\n",
        "multi-line\n",
        "string\"\"\""
      ],
      "metadata": {
        "id": "BBvjePq4gxTO"
      },
      "execution_count": null,
      "outputs": []
    },
    {
      "cell_type": "code",
      "source": [
        "print(type(x))\n",
        "print(type(y))\n",
        "print(type(name))\n",
        "print(is_snake)\n",
        "print(multiline_string)"
      ],
      "metadata": {
        "id": "PEYFeKShgxnJ",
        "colab": {
          "base_uri": "https://localhost:8080/"
        },
        "outputId": "45a1b4c9-ad66-4e90-b1fd-65c24b890c10"
      },
      "execution_count": null,
      "outputs": [
        {
          "output_type": "stream",
          "name": "stdout",
          "text": [
            "<class 'int'>\n",
            "<class 'float'>\n",
            "<class 'str'>\n",
            "False\n",
            "This is a\n",
            "multi-line \n",
            "string\n"
          ]
        }
      ]
    },
    {
      "cell_type": "code",
      "source": [
        "print('hello ' *3 )"
      ],
      "metadata": {
        "colab": {
          "base_uri": "https://localhost:8080/"
        },
        "id": "IwXx2_4Ypyom",
        "outputId": "fc876f73-3b34-4d21-ec7d-2984805071fc"
      },
      "execution_count": null,
      "outputs": [
        {
          "output_type": "stream",
          "name": "stdout",
          "text": [
            "hello hello hello \n"
          ]
        }
      ]
    },
    {
      "cell_type": "code",
      "source": [
        "name = \"Python\"\n",
        "animal = 'snake'\n",
        "print(\"I'm\", name , \"years old\")\n",
        "print(f\"Hi, I am {name}. See I am not a {animal}.\")"
      ],
      "metadata": {
        "colab": {
          "base_uri": "https://localhost:8080/"
        },
        "id": "8uV-aKfip5Mn",
        "outputId": "89a42766-a68d-490a-ad86-31056ebd1c13"
      },
      "execution_count": null,
      "outputs": [
        {
          "output_type": "stream",
          "name": "stdout",
          "text": [
            "Hi, I am Python.See I am not a snake.\n"
          ]
        }
      ]
    },
    {
      "cell_type": "code",
      "source": [
        "print(type(name))"
      ],
      "metadata": {
        "colab": {
          "base_uri": "https://localhost:8080/"
        },
        "id": "nXP__cQqgxwk",
        "outputId": "897ca047-ae6e-4413-c830-1f8571d37e0d"
      },
      "execution_count": null,
      "outputs": [
        {
          "output_type": "stream",
          "name": "stdout",
          "text": [
            "<class 'str'>\n"
          ]
        }
      ]
    },
    {
      "cell_type": "code",
      "source": [
        "x, y, z = 1, 3, 2\n",
        "print(x, y, z)"
      ],
      "metadata": {
        "colab": {
          "base_uri": "https://localhost:8080/"
        },
        "id": "CJr60yaAgx0F",
        "outputId": "4e197166-5a3f-438d-eb95-2896e39a9457"
      },
      "execution_count": null,
      "outputs": [
        {
          "output_type": "stream",
          "name": "stdout",
          "text": [
            "1 3 2 2.98\n"
          ]
        }
      ]
    },
    {
      "cell_type": "code",
      "source": [],
      "metadata": {
        "id": "AyPS2-j16pY-"
      },
      "execution_count": null,
      "outputs": []
    },
    {
      "cell_type": "code",
      "source": [
        "x, y, z, id = 1, 2,7.9,'22201186'\n",
        "print(x, y, z, id)"
      ],
      "metadata": {
        "id": "KxMBQ23uhoKt",
        "colab": {
          "base_uri": "https://localhost:8080/"
        },
        "outputId": "226ef31d-c26a-47ac-d462-9ca601922d1b"
      },
      "execution_count": null,
      "outputs": [
        {
          "output_type": "stream",
          "name": "stdout",
          "text": [
            "1 2 7.9 22201186\n"
          ]
        }
      ]
    },
    {
      "cell_type": "markdown",
      "source": [],
      "metadata": {
        "id": "zqZM1Ggg-BTe"
      }
    },
    {
      "cell_type": "markdown",
      "source": [
        "**Guess the output**"
      ],
      "metadata": {
        "id": "FB7NQEzSh6LM"
      }
    },
    {
      "cell_type": "code",
      "source": [
        "x, y, aa, ab = 1, 2, 3\n",
        "print(x, y, aa)"
      ],
      "metadata": {
        "id": "rPLlaQ5xhoa7",
        "colab": {
          "base_uri": "https://localhost:8080/"
        },
        "outputId": "c8b5f593-c2c7-4c84-ed6b-1207d470d4f4"
      },
      "execution_count": null,
      "outputs": [
        {
          "output_type": "stream",
          "name": "stdout",
          "text": [
            "1 2 3\n"
          ]
        }
      ]
    },
    {
      "cell_type": "code",
      "source": [
        "a, b,c,d = 1,2,3,4,5\n",
        "print(a,b,c,d)"
      ],
      "metadata": {
        "colab": {
          "base_uri": "https://localhost:8080/",
          "height": 159
        },
        "id": "4gy0cCAfuXjg",
        "outputId": "7cf71422-4d01-4e31-f557-584ac4ba5cc3"
      },
      "execution_count": null,
      "outputs": [
        {
          "output_type": "error",
          "ename": "ValueError",
          "evalue": "too many values to unpack (expected 4)",
          "traceback": [
            "\u001b[0;31m---------------------------------------------------------------------------\u001b[0m",
            "\u001b[0;31mValueError\u001b[0m                                Traceback (most recent call last)",
            "\u001b[0;32m<ipython-input-23-0af85e5de440>\u001b[0m in \u001b[0;36m<cell line: 0>\u001b[0;34m()\u001b[0m\n\u001b[0;32m----> 1\u001b[0;31m \u001b[0ma\u001b[0m\u001b[0;34m,\u001b[0m \u001b[0mb\u001b[0m\u001b[0;34m,\u001b[0m\u001b[0mc\u001b[0m\u001b[0;34m,\u001b[0m\u001b[0md\u001b[0m \u001b[0;34m=\u001b[0m \u001b[0;36m1\u001b[0m\u001b[0;34m,\u001b[0m\u001b[0;36m2\u001b[0m\u001b[0;34m,\u001b[0m\u001b[0;36m3\u001b[0m\u001b[0;34m,\u001b[0m\u001b[0;36m4\u001b[0m\u001b[0;34m,\u001b[0m\u001b[0;36m5\u001b[0m\u001b[0;34m\u001b[0m\u001b[0;34m\u001b[0m\u001b[0m\n\u001b[0m\u001b[1;32m      2\u001b[0m \u001b[0mprint\u001b[0m\u001b[0;34m(\u001b[0m\u001b[0ma\u001b[0m\u001b[0;34m,\u001b[0m\u001b[0mb\u001b[0m\u001b[0;34m,\u001b[0m\u001b[0mc\u001b[0m\u001b[0;34m,\u001b[0m\u001b[0md\u001b[0m\u001b[0;34m)\u001b[0m\u001b[0;34m\u001b[0m\u001b[0;34m\u001b[0m\u001b[0m\n",
            "\u001b[0;31mValueError\u001b[0m: too many values to unpack (expected 4)"
          ]
        }
      ]
    },
    {
      "cell_type": "code",
      "source": [
        "a, b, *r = 1,2,3,4,5,6,7,8,9\n",
        "print(a, b, r, sep=\"\\n\")"
      ],
      "metadata": {
        "colab": {
          "base_uri": "https://localhost:8080/"
        },
        "id": "x3pCFWoIoNXH",
        "outputId": "ec3c9c23-a53d-4b17-a947-e49c0a150451"
      },
      "execution_count": null,
      "outputs": [
        {
          "output_type": "stream",
          "name": "stdout",
          "text": [
            "1\n",
            "2\n",
            "[3, 4, 5, 6, 7, 8, 9]\n"
          ]
        }
      ]
    },
    {
      "cell_type": "code",
      "source": [
        "*a, b, rest = 1,2,3,4,5,6,7,8,9\n",
        "print(a, b, rest, sep=\"\\n\")"
      ],
      "metadata": {
        "id": "t4ZM1haio3xf",
        "colab": {
          "base_uri": "https://localhost:8080/"
        },
        "outputId": "6f9db521-8dc8-4fd5-d2de-c4f274b533b1"
      },
      "execution_count": null,
      "outputs": [
        {
          "output_type": "stream",
          "name": "stdout",
          "text": [
            "[1, 2, 3, 4, 5, 6, 7]\n",
            "8\n",
            "9\n"
          ]
        }
      ]
    },
    {
      "cell_type": "code",
      "source": [
        "a, *b, rest = 1,2,3,4,5,6,7,8,9\n",
        "print(a, b, rest, sep=\"\\n\")"
      ],
      "metadata": {
        "id": "khhay7vmo_vu"
      },
      "execution_count": null,
      "outputs": []
    },
    {
      "cell_type": "code",
      "source": [
        "a=b=c=d=e=9\n",
        "print(a,b,c,d,e)"
      ],
      "metadata": {
        "colab": {
          "base_uri": "https://localhost:8080/"
        },
        "id": "C7VkniDG-WTu",
        "outputId": "2d0bc6fc-4f01-4f86-d769-bf642b1f1247"
      },
      "execution_count": null,
      "outputs": [
        {
          "output_type": "stream",
          "name": "stdout",
          "text": [
            "9 9 9 9\n"
          ]
        }
      ]
    },
    {
      "cell_type": "code",
      "source": [
        "#Arithmetic operation\n",
        "x = 10\n",
        "y = 4\n",
        "\n",
        "addition = x + y\n",
        "subtraction = x - y\n",
        "multiplication = x * y\n",
        "division = x / y\n",
        "floor_division = x // y\n",
        "modulus = x % y\n",
        "exponentiation = x ** y"
      ],
      "metadata": {
        "id": "zQD1rBz1-WfP"
      },
      "execution_count": null,
      "outputs": []
    },
    {
      "cell_type": "code",
      "source": [
        "print(addition)\n",
        "print(subtraction)\n",
        "print(multiplication)\n",
        "print(division)\n",
        "print(floor_division)\n",
        "print(modulus)\n",
        "print(exponentiation)"
      ],
      "metadata": {
        "colab": {
          "base_uri": "https://localhost:8080/"
        },
        "id": "JbSdq3Ai9Xrd",
        "outputId": "3be05a4f-80de-4bd6-d3de-2e34e8f4cf6c"
      },
      "execution_count": null,
      "outputs": [
        {
          "output_type": "stream",
          "name": "stdout",
          "text": [
            "14\n",
            "6\n",
            "40\n",
            "2.5\n",
            "2\n",
            "2\n",
            "10000\n"
          ]
        }
      ]
    },
    {
      "cell_type": "code",
      "source": [
        "#Comparison operation\n",
        "x = 10\n",
        "y = 3\n",
        "\n",
        "equal = x == y\n",
        "not_equal = x != y\n",
        "greater_than = x > y\n",
        "less_than = x < y\n",
        "greater_or_equal = x >= y\n",
        "less_or_equal = x <= y"
      ],
      "metadata": {
        "id": "WlrtRDIz-W3P"
      },
      "execution_count": null,
      "outputs": []
    }
  ]
}