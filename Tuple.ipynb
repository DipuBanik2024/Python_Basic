{
  "nbformat": 4,
  "nbformat_minor": 0,
  "metadata": {
    "colab": {
      "provenance": []
    },
    "kernelspec": {
      "name": "python3",
      "display_name": "Python 3"
    },
    "language_info": {
      "name": "python"
    }
  },
  "cells": [
    {
      "cell_type": "markdown",
      "source": [
        "# **Tuple**\n",
        "\n",
        "\n",
        "*   Tuples are **indexed** **ordered**, and **immutable**.\n",
        "*   Tuple can have duplicates.\n",
        "\n"
      ],
      "metadata": {
        "id": "vuQM675G3Yfx"
      }
    },
    {
      "cell_type": "code",
      "source": [
        "students = ('david', 'john', 'mary')\n",
        "print(students)\n",
        "print(type(students))"
      ],
      "metadata": {
        "colab": {
          "base_uri": "https://localhost:8080/"
        },
        "id": "q7Q0IuhX3r7k",
        "outputId": "c6580055-e969-4976-e4df-c2522896b1f7"
      },
      "execution_count": null,
      "outputs": [
        {
          "output_type": "stream",
          "name": "stdout",
          "text": [
            "('david', 'john', 'mary')\n",
            "<class 'tuple'>\n"
          ]
        }
      ]
    },
    {
      "cell_type": "code",
      "source": [
        "print(students[0])"
      ],
      "metadata": {
        "colab": {
          "base_uri": "https://localhost:8080/"
        },
        "id": "o0i-PmnG36JQ",
        "outputId": "7a60f434-3c6f-4d3a-c362-b1e1aee956b5"
      },
      "execution_count": null,
      "outputs": [
        {
          "output_type": "stream",
          "name": "stdout",
          "text": [
            "david\n"
          ]
        }
      ]
    },
    {
      "cell_type": "code",
      "source": [
        "for student in students:\n",
        "  print(student)"
      ],
      "metadata": {
        "colab": {
          "base_uri": "https://localhost:8080/"
        },
        "id": "9FwQ_8iA3-8v",
        "outputId": "cb8b2e7e-384a-480b-d360-63f3a8d783eb"
      },
      "execution_count": null,
      "outputs": [
        {
          "output_type": "stream",
          "name": "stdout",
          "text": [
            "david\n",
            "john\n",
            "mary\n"
          ]
        }
      ]
    },
    {
      "cell_type": "code",
      "source": [
        "students[1] = 'Jemmy'"
      ],
      "metadata": {
        "colab": {
          "base_uri": "https://localhost:8080/",
          "height": 141
        },
        "id": "VVAuAy_i4DX3",
        "outputId": "4223a7eb-ff10-4d1c-ff17-ae6d729d5ead"
      },
      "execution_count": null,
      "outputs": [
        {
          "output_type": "error",
          "ename": "TypeError",
          "evalue": "'tuple' object does not support item assignment",
          "traceback": [
            "\u001b[0;31m---------------------------------------------------------------------------\u001b[0m",
            "\u001b[0;31mTypeError\u001b[0m                                 Traceback (most recent call last)",
            "\u001b[0;32m<ipython-input-4-3f76f22ba102>\u001b[0m in \u001b[0;36m<cell line: 0>\u001b[0;34m()\u001b[0m\n\u001b[0;32m----> 1\u001b[0;31m \u001b[0mstudents\u001b[0m\u001b[0;34m[\u001b[0m\u001b[0;36m1\u001b[0m\u001b[0;34m]\u001b[0m \u001b[0;34m=\u001b[0m \u001b[0;34m'Jemmy'\u001b[0m\u001b[0;34m\u001b[0m\u001b[0;34m\u001b[0m\u001b[0m\n\u001b[0m",
            "\u001b[0;31mTypeError\u001b[0m: 'tuple' object does not support item assignment"
          ]
        }
      ]
    },
    {
      "cell_type": "code",
      "source": [],
      "metadata": {
        "id": "d21ZdlIsCND-"
      },
      "execution_count": null,
      "outputs": []
    },
    {
      "cell_type": "code",
      "source": [
        "students.append('Jemmy')"
      ],
      "metadata": {
        "colab": {
          "base_uri": "https://localhost:8080/",
          "height": 141
        },
        "id": "vqm26up_4HQn",
        "outputId": "9942c4c6-9ea7-404e-c5f5-69466eb09411"
      },
      "execution_count": null,
      "outputs": [
        {
          "output_type": "error",
          "ename": "AttributeError",
          "evalue": "'tuple' object has no attribute 'append'",
          "traceback": [
            "\u001b[0;31m---------------------------------------------------------------------------\u001b[0m",
            "\u001b[0;31mAttributeError\u001b[0m                            Traceback (most recent call last)",
            "\u001b[0;32m<ipython-input-5-a5c1307faa64>\u001b[0m in \u001b[0;36m<cell line: 0>\u001b[0;34m()\u001b[0m\n\u001b[0;32m----> 1\u001b[0;31m \u001b[0mstudents\u001b[0m\u001b[0;34m.\u001b[0m\u001b[0mappend\u001b[0m\u001b[0;34m(\u001b[0m\u001b[0;34m'Jemmy'\u001b[0m\u001b[0;34m)\u001b[0m\u001b[0;34m\u001b[0m\u001b[0;34m\u001b[0m\u001b[0m\n\u001b[0m",
            "\u001b[0;31mAttributeError\u001b[0m: 'tuple' object has no attribute 'append'"
          ]
        }
      ]
    },
    {
      "cell_type": "code",
      "source": [
        "students.remove('john')"
      ],
      "metadata": {
        "colab": {
          "base_uri": "https://localhost:8080/",
          "height": 141
        },
        "id": "XHSy6Bsv4UGj",
        "outputId": "c3bab2da-57e4-40a4-b051-5f190033a5b6"
      },
      "execution_count": null,
      "outputs": [
        {
          "output_type": "error",
          "ename": "AttributeError",
          "evalue": "'tuple' object has no attribute 'remove'",
          "traceback": [
            "\u001b[0;31m---------------------------------------------------------------------------\u001b[0m",
            "\u001b[0;31mAttributeError\u001b[0m                            Traceback (most recent call last)",
            "\u001b[0;32m<ipython-input-6-d8f23d98d3d9>\u001b[0m in \u001b[0;36m<cell line: 0>\u001b[0;34m()\u001b[0m\n\u001b[0;32m----> 1\u001b[0;31m \u001b[0mstudents\u001b[0m\u001b[0;34m.\u001b[0m\u001b[0mremove\u001b[0m\u001b[0;34m(\u001b[0m\u001b[0;34m'john'\u001b[0m\u001b[0;34m)\u001b[0m\u001b[0;34m\u001b[0m\u001b[0;34m\u001b[0m\u001b[0m\n\u001b[0m",
            "\u001b[0;31mAttributeError\u001b[0m: 'tuple' object has no attribute 'remove'"
          ]
        }
      ]
    },
    {
      "cell_type": "code",
      "source": [
        "updated_student = ('Younus',) + students + ('jemmy','Ekra') #mandatory to use the comma after one item"
      ],
      "metadata": {
        "id": "vMEkpXht4YeM"
      },
      "execution_count": null,
      "outputs": []
    },
    {
      "cell_type": "code",
      "source": [
        "print(updated_student)"
      ],
      "metadata": {
        "colab": {
          "base_uri": "https://localhost:8080/"
        },
        "id": "AvUl20xs4jLV",
        "outputId": "8fea20c1-afc7-4639-d527-7829f75af735"
      },
      "execution_count": null,
      "outputs": [
        {
          "output_type": "stream",
          "name": "stdout",
          "text": [
            "('Younus', 'david', 'john', 'mary', 'jemmy', 'Ekra')\n"
          ]
        }
      ]
    },
    {
      "cell_type": "code",
      "source": [
        "print(students[:len(students)])"
      ],
      "metadata": {
        "colab": {
          "base_uri": "https://localhost:8080/"
        },
        "id": "6zvonFw64r94",
        "outputId": "bf49c989-8fba-4f27-c980-df36115f32b1"
      },
      "execution_count": null,
      "outputs": [
        {
          "output_type": "stream",
          "name": "stdout",
          "text": [
            "('david', 'john', 'mary')\n"
          ]
        }
      ]
    },
    {
      "cell_type": "code",
      "source": [
        "my_tuple = (1, 2, 3)\n",
        "print(my_tuple)\n",
        "a, *b= my_tuple\n",
        "print(a)\n",
        "print(b)\n"
      ],
      "metadata": {
        "colab": {
          "base_uri": "https://localhost:8080/"
        },
        "id": "_KdJ_4Vz5UHG",
        "outputId": "b3897b34-0294-4758-b771-7baa7045c9d3"
      },
      "execution_count": null,
      "outputs": [
        {
          "output_type": "stream",
          "name": "stdout",
          "text": [
            "(1, 2, 3)\n",
            "1\n",
            "[2, 3]\n"
          ]
        }
      ]
    },
    {
      "cell_type": "code",
      "source": [
        "a, *b = my_tuple\n",
        "print(a)\n",
        "print(b)"
      ],
      "metadata": {
        "colab": {
          "base_uri": "https://localhost:8080/"
        },
        "id": "l7AVutHh62Jl",
        "outputId": "38e4104d-9beb-48d8-8b48-d4d6a7ae7503"
      },
      "execution_count": null,
      "outputs": [
        {
          "output_type": "stream",
          "name": "stdout",
          "text": [
            "1\n",
            "[2, 3]\n"
          ]
        }
      ]
    },
    {
      "cell_type": "markdown",
      "source": [
        "## **Add, change value, remove, and insert in a tuple using list conversion.**"
      ],
      "metadata": {
        "id": "SmIh9Yd07Lm3"
      }
    },
    {
      "cell_type": "code",
      "source": [
        "fruits = ('Apple', 'Banana', 'Orange', 'Grapes')\n",
        "\n",
        "fruit_list = list(fruits)\n",
        "\n",
        "fruit_list.append('Mango')\n",
        "\n",
        "fruit_list.insert(2, 'Strawberry')\n",
        "\n",
        "my_fruits = tuple(fruit_list)\n",
        "\n",
        "print(my_fruits)\n"
      ],
      "metadata": {
        "colab": {
          "base_uri": "https://localhost:8080/"
        },
        "id": "Vjse47Ms7KrJ",
        "outputId": "ba3e2305-2782-4537-9081-3bebb37e6c94"
      },
      "execution_count": null,
      "outputs": [
        {
          "output_type": "stream",
          "name": "stdout",
          "text": [
            "('Apple', 'Banana', 'Strawberry', 'Orange', 'Grapes', 'Mango')\n"
          ]
        }
      ]
    },
    {
      "cell_type": "code",
      "source": [
        "fruits = ('Apple', 'Banana', 'Orange', 'Grapes')\n",
        "\n",
        "fruit_list = list(fruits)\n",
        "\n",
        "fruit_list.remove('Orange')\n",
        "\n",
        "fruits = tuple(fruit_list)\n",
        "\n",
        "print(fruits)\n"
      ],
      "metadata": {
        "id": "Q_36uSPa7oM8"
      },
      "execution_count": null,
      "outputs": []
    },
    {
      "cell_type": "code",
      "source": [
        "#take input in a tuple using for loop\n",
        "\n",
        "n = int(input(\"Enter the number of elements you want in the tuple: \"))\n",
        "\n",
        "input_list = []\n",
        "\n",
        "for i in range(n):\n",
        "    element = input(\"Enter element: \")\n",
        "    input_list.append(element)\n",
        "\n",
        "input_tuple = tuple(input_list)\n",
        "\n",
        "print(\"The tuple is:\", input_tuple)\n"
      ],
      "metadata": {
        "id": "JpJhLMyI7KuK"
      },
      "execution_count": null,
      "outputs": []
    },
    {
      "cell_type": "code",
      "source": [
        "##Questions for today:\n",
        "##1. take a fruit's name user input and add the item in your my_fruits tuple.\n",
        "##2. take a fruit's name user input and remove the item from your my_fruits tuple.\n"
      ],
      "metadata": {
        "id": "GVtT1bQc7KxH"
      },
      "execution_count": null,
      "outputs": []
    }
  ]
}