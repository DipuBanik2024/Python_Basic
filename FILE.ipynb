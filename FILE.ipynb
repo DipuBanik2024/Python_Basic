{
  "nbformat": 4,
  "nbformat_minor": 0,
  "metadata": {
    "colab": {
      "provenance": []
    },
    "kernelspec": {
      "name": "python3",
      "display_name": "Python 3"
    },
    "language_info": {
      "name": "python"
    }
  },
  "cells": [
    {
      "cell_type": "code",
      "execution_count": null,
      "metadata": {
        "colab": {
          "base_uri": "https://localhost:8080/"
        },
        "id": "1VRQZn-ey4ck",
        "outputId": "d1671d56-ef82-4de0-ab2a-ece0eb23a753"
      },
      "outputs": [
        {
          "output_type": "stream",
          "name": "stdout",
          "text": [
            "This is my first line\n",
            "this is second line\n"
          ]
        }
      ],
      "source": [
        "with open('demo.txt','r') as file:\n",
        "  line = file.read()\n",
        "  print(line)"
      ]
    },
    {
      "cell_type": "code",
      "source": [
        "file = open('demo.txt','r')\n",
        "line = file.readlines()\n",
        "print(line)\n",
        "file.close()"
      ],
      "metadata": {
        "colab": {
          "base_uri": "https://localhost:8080/"
        },
        "id": "toF5BN_P0iNG",
        "outputId": "1b3f7ff6-3cf6-4575-c1e1-37e5b5db8736"
      },
      "execution_count": null,
      "outputs": [
        {
          "output_type": "stream",
          "name": "stdout",
          "text": [
            "['This is from demo text file\\n', 'new line']\n"
          ]
        }
      ]
    },
    {
      "cell_type": "code",
      "source": [
        "with open('demo.txt','r') as file:\n",
        "  lines = file.readlines()\n",
        "  # print(lines)\n",
        "  count = 0\n",
        "  count_line = len(lines)\n",
        "  print(count_line)\n",
        "  for line in lines:\n",
        "    for word in line.split():\n",
        "      print(word)\n",
        "      count+=1\n",
        "\n",
        "  print(count)"
      ],
      "metadata": {
        "colab": {
          "base_uri": "https://localhost:8080/"
        },
        "id": "9GBNW0EEzpU_",
        "outputId": "3ada514a-6411-451c-e7db-3e7b3a682992"
      },
      "execution_count": null,
      "outputs": [
        {
          "output_type": "stream",
          "name": "stdout",
          "text": [
            "2\n",
            "This\n",
            "is\n",
            "from\n",
            "demo\n",
            "text\n",
            "file\n",
            "new\n",
            "line\n",
            "8\n"
          ]
        }
      ]
    },
    {
      "cell_type": "code",
      "source": [
        "with open('demo.txt','r') as file:\n",
        "  count = 0\n",
        "  lines = file.readlines()\n",
        "  for line in lines:\n",
        "    for word in line.split():\n",
        "      print(word)\n",
        "  print(count)"
      ],
      "metadata": {
        "colab": {
          "base_uri": "https://localhost:8080/"
        },
        "id": "l4C13PjwRykD",
        "outputId": "d00326bd-fa01-402f-ee0e-8dadcf02f5af"
      },
      "execution_count": null,
      "outputs": [
        {
          "output_type": "stream",
          "name": "stdout",
          "text": [
            "This\n",
            "is\n",
            "my\n",
            "first\n",
            "line\n",
            "this\n",
            "is\n",
            "second\n",
            "line\n",
            "0\n"
          ]
        }
      ]
    },
    {
      "cell_type": "code",
      "source": [
        "with open('new_file.txt','w') as file:\n",
        "  file.write('hi world\\n')\n",
        "  file.write('new line')"
      ],
      "metadata": {
        "id": "4iOxADzv4zOy"
      },
      "execution_count": null,
      "outputs": []
    },
    {
      "cell_type": "code",
      "source": [
        "with open(\"new_file1.txt\", \"a\") as file:\n",
        "  file.write(\"\\nThis line is appended.\")\n"
      ],
      "metadata": {
        "id": "xbbfS7IC48QY"
      },
      "execution_count": null,
      "outputs": []
    },
    {
      "cell_type": "code",
      "source": [],
      "metadata": {
        "id": "Dg9nJZEhEFNK"
      },
      "execution_count": null,
      "outputs": []
    },
    {
      "cell_type": "code",
      "source": [
        "import os\n",
        "\n",
        "if os.path.exists(\"demo.txt\"):\n",
        "    print(\"File exists.\")\n",
        "else:\n",
        "    print(\"File does not exist.\")\n"
      ],
      "metadata": {
        "colab": {
          "base_uri": "https://localhost:8080/"
        },
        "id": "dP_1deHT5xwj",
        "outputId": "32a4b497-01a2-4a47-c360-66ad785b8db2"
      },
      "execution_count": null,
      "outputs": [
        {
          "output_type": "stream",
          "name": "stdout",
          "text": [
            "File exists.\n"
          ]
        }
      ]
    },
    {
      "cell_type": "code",
      "source": [
        "import os\n",
        "\n",
        "if os.path.exists(\"new_file.txt\"):\n",
        "    os.remove(\"new_file.txt\")\n",
        "else:\n",
        "    print(\"File not found.\")\n"
      ],
      "metadata": {
        "id": "dJOw9-LZ55ee"
      },
      "execution_count": null,
      "outputs": []
    },
    {
      "cell_type": "markdown",
      "source": [
        "# Write and read a list of items"
      ],
      "metadata": {
        "id": "teFrhwZt6kME"
      }
    },
    {
      "cell_type": "code",
      "source": [
        "def write_to_file(filename,list):\n",
        "  with open(filename,'w') as file:\n",
        "    for item in list:\n",
        "      file.write(item+'\\n')\n",
        "\n",
        "def read_from_file(filename):\n",
        "  try:\n",
        "    with open(filename,'r') as file:\n",
        "      lines = file.readlines()\n",
        "      for line in lines:\n",
        "        print(line)\n",
        "  except FileNotFoundError as e:\n",
        "    print(e)\n",
        "\n",
        "subjects = ['java','python','c','c++']\n",
        "write_to_file('my_subjects.txt',subjects)\n",
        "read_from_file('my_subjects.txt')"
      ],
      "metadata": {
        "colab": {
          "base_uri": "https://localhost:8080/"
        },
        "id": "kVGB-f3h6I8V",
        "outputId": "b30e351e-3770-4ecc-ff9a-d5ed0e4dbdbc"
      },
      "execution_count": null,
      "outputs": [
        {
          "output_type": "stream",
          "name": "stdout",
          "text": [
            "java\n",
            "\n",
            "python\n",
            "\n",
            "c\n",
            "\n",
            "c++\n",
            "\n"
          ]
        }
      ]
    },
    {
      "cell_type": "markdown",
      "source": [
        "# Write a program to copy the contents of one file to another"
      ],
      "metadata": {
        "id": "6UGH0x1L7ien"
      }
    },
    {
      "cell_type": "code",
      "source": [
        "try:\n",
        "  with open('demo.txt','r') as r_file:\n",
        "    lines = r_file.readlines()\n",
        "    print(lines)\n",
        "    with open('new_file.txt','w') as w_file:\n",
        "      for line in lines:\n",
        "        w_file.write(line)\n",
        "except FileNotFoundError as e:\n",
        "  print(e)"
      ],
      "metadata": {
        "colab": {
          "base_uri": "https://localhost:8080/"
        },
        "id": "yoaKiq4B6JSi",
        "outputId": "faa6a16c-ec9f-449b-b140-a72d86043974"
      },
      "execution_count": null,
      "outputs": [
        {
          "output_type": "stream",
          "name": "stdout",
          "text": [
            "['This is Section D\\n', 'Subject CSE309']\n"
          ]
        }
      ]
    },
    {
      "cell_type": "markdown",
      "source": [
        "# **Create a program that counts the number of occurrences of a specific words in a text file**\n"
      ],
      "metadata": {
        "id": "ltx7jmGa9Bn4"
      }
    },
    {
      "cell_type": "code",
      "source": [],
      "metadata": {
        "id": "A33nvQQPARy4"
      },
      "execution_count": null,
      "outputs": []
    },
    {
      "cell_type": "code",
      "source": [
        "def count_word_occurrences(filename, n):\n",
        "  count = 0\n",
        "  try:\n",
        "    with open(filename, 'r') as file:\n",
        "      lines = file.readlines()\n",
        "      for line in lines:\n",
        "        for word in line.split():\n",
        "          if word.upper() == n.upper():\n",
        "            count+=1\n",
        "      print(count)\n",
        "  except FileNotFoundError as e:\n",
        "      print(e)\n",
        "\n",
        "count_word_occurrences('new_file.txt','line')"
      ],
      "metadata": {
        "colab": {
          "base_uri": "https://localhost:8080/"
        },
        "id": "gxY5ZA1r9DM_",
        "outputId": "6b3912ce-1ada-4fd7-ec61-e4dbc1168429"
      },
      "execution_count": null,
      "outputs": [
        {
          "output_type": "stream",
          "name": "stdout",
          "text": [
            "4\n"
          ]
        }
      ]
    },
    {
      "cell_type": "code",
      "source": [],
      "metadata": {
        "id": "o_tZE-ZZ_TAy"
      },
      "execution_count": null,
      "outputs": []
    },
    {
      "cell_type": "markdown",
      "source": [
        "# Find the Longest Word in a Text **File**"
      ],
      "metadata": {
        "id": "0ZBKuWofAiVi"
      }
    },
    {
      "cell_type": "code",
      "source": [
        "with open('new_file.txt','r') as file:\n",
        "  lines = file.readlines()\n",
        "  longest_word = ''\n",
        "  for line in lines:\n",
        "    for word in line.split():\n",
        "      if len(word) > len(longest_word):\n",
        "        longest_word = word\n",
        "\n",
        "  print(longest_word)"
      ],
      "metadata": {
        "colab": {
          "base_uri": "https://localhost:8080/"
        },
        "id": "T3eeIbWOAlni",
        "outputId": "dd105262-34c9-49f2-9fac-add0eaec6da8"
      },
      "execution_count": null,
      "outputs": [
        {
          "output_type": "stream",
          "name": "stdout",
          "text": [
            "second\n"
          ]
        }
      ]
    },
    {
      "cell_type": "markdown",
      "source": [
        "# **Count the Number of Vowels in a Text File**"
      ],
      "metadata": {
        "id": "t40PrnDEAzFs"
      }
    },
    {
      "cell_type": "code",
      "source": [
        "def count_vowels(filename):\n",
        "  with open(filename, 'r') as file:\n",
        "    lines = file.readlines()\n",
        "    count = 0\n",
        "    vowels = 'aeiouAEIOU'\n",
        "    for line in lines:\n",
        "      for char in line:\n",
        "        if char in vowels:\n",
        "          count+=1\n",
        "  print(count)\n",
        "\n",
        "count_vowels('new_file.txt')"
      ],
      "metadata": {
        "colab": {
          "base_uri": "https://localhost:8080/"
        },
        "id": "HjVe8GmnA0nc",
        "outputId": "980edb14-882d-4df7-ef15-eeaf9338c7fc"
      },
      "execution_count": null,
      "outputs": [
        {
          "output_type": "stream",
          "name": "stdout",
          "text": [
            "16\n"
          ]
        }
      ]
    },
    {
      "cell_type": "markdown",
      "source": [
        "# **Replace a Word in a File**"
      ],
      "metadata": {
        "id": "Spt63-IIBi5S"
      }
    },
    {
      "cell_type": "code",
      "source": [
        "with open('new_file.txt','r') as file:\n",
        "  count = file.readlines()\n",
        "  for word in count:\n",
        "    if 'line' in word:\n",
        "      print(word.replace('line','code'))\n",
        "\n",
        "\n"
      ],
      "metadata": {
        "colab": {
          "base_uri": "https://localhost:8080/"
        },
        "id": "t-G8Eq-7BlDY",
        "outputId": "467cc1b1-cf1e-429c-ec08-31f454c87e64"
      },
      "execution_count": null,
      "outputs": [
        {
          "output_type": "stream",
          "name": "stdout",
          "text": [
            "this is first code .\n",
            "\n",
            "this is second code .\n",
            "\n",
            "This is third code .\n"
          ]
        }
      ]
    }
  ]
}