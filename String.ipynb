{
  "nbformat": 4,
  "nbformat_minor": 0,
  "metadata": {
    "colab": {
      "provenance": []
    },
    "kernelspec": {
      "name": "python3",
      "display_name": "Python 3"
    },
    "language_info": {
      "name": "python"
    }
  },
  "cells": [
    {
      "cell_type": "markdown",
      "source": [
        "# **Topic: String**"
      ],
      "metadata": {
        "id": "HXgk_i9w3gYL"
      }
    },
    {
      "cell_type": "code",
      "execution_count": null,
      "metadata": {
        "colab": {
          "base_uri": "https://localhost:8080/"
        },
        "id": "uHdie3TN3awQ",
        "outputId": "8f578057-c987-4bb2-fd58-eef07ea1cdc1"
      },
      "outputs": [
        {
          "output_type": "stream",
          "name": "stdout",
          "text": [
            "hello world\n",
            "helloworld\n"
          ]
        }
      ],
      "source": [
        "s1 = \"hello\"\n",
        "s2 = \"world\"\n",
        "result = s1 + \" \" + s2\n",
        "s3 = s1 + s2\n",
        "print(result)\n",
        "print(s3)"
      ]
    },
    {
      "cell_type": "code",
      "source": [
        "print(result)"
      ],
      "metadata": {
        "colab": {
          "base_uri": "https://localhost:8080/"
        },
        "id": "0n5Ouypo3phD",
        "outputId": "8c79bdd1-9fae-4069-8a29-31022aa06735"
      },
      "execution_count": null,
      "outputs": [
        {
          "output_type": "stream",
          "name": "stdout",
          "text": [
            "hello world\n"
          ]
        }
      ]
    },
    {
      "cell_type": "code",
      "source": [
        "# prompt: more operation of string in python\n",
        "\n",
        "# Accessing characters by index\n",
        "first_char = s1[0]\n",
        "print(first_char)\n",
        "\n",
        "# String length\n",
        "length = len(s1)\n",
        "print(length)\n",
        "\n",
        "# Slicing\n",
        "#'hello'\n",
        "substring = s1[1:4]\n",
        "print(substring)\n",
        "\n",
        "\n",
        "# String methods\n",
        "uppercase = s1.upper()\n",
        "print(uppercase)\n",
        "\n",
        "lowercase = s2.lower()\n",
        "print(lowercase)\n",
        "\n",
        "# Splitting a string\n",
        "words = result.split()\n",
        "print(words)\n",
        "\n",
        "#Capitalize\n",
        "sentence = \"this is a sentence with a capital letter\"\n",
        "capitalized_sentence = sentence.capitalize()\n",
        "print(capitalized_sentence)\n"
      ],
      "metadata": {
        "colab": {
          "base_uri": "https://localhost:8080/"
        },
        "id": "7zR_onvm3pkD",
        "outputId": "e206a0b7-1953-4396-c396-2bdc93d86db1"
      },
      "execution_count": null,
      "outputs": [
        {
          "output_type": "stream",
          "name": "stdout",
          "text": [
            "h\n",
            "5\n",
            "ell\n",
            "HELLO\n",
            "world\n",
            "['hello', 'world']\n",
            "This is a sentence with a capital letter\n"
          ]
        }
      ]
    },
    {
      "cell_type": "code",
      "source": [
        "# Slicing\n",
        "# s1= 'hello'\n",
        "substring = s1[1:5]\n",
        "print(s1[1:5] == s1[1:])\n",
        "print(substring)\n",
        "s4 = 'medicine'\n",
        "print(s4[2:6:2])\n",
        "print(s4[::2])"
      ],
      "metadata": {
        "colab": {
          "base_uri": "https://localhost:8080/"
        },
        "id": "x_oNNudL3pnC",
        "outputId": "b290e1e1-b0bc-45d1-c9b9-8afe270bc2e6"
      },
      "execution_count": null,
      "outputs": [
        {
          "output_type": "stream",
          "name": "stdout",
          "text": [
            "True\n",
            "ello\n",
            "dc\n",
            "mdcn\n"
          ]
        }
      ]
    },
    {
      "cell_type": "code",
      "source": [
        "#swapcase\n",
        "sentence = \"This Is A Sentence With A Capital Letter\"\n",
        "swapped_sentence = sentence.swapcase()\n",
        "print(swapped_sentence)"
      ],
      "metadata": {
        "colab": {
          "base_uri": "https://localhost:8080/"
        },
        "id": "L0kmhbII3zQ6",
        "outputId": "81254b73-0185-4dcf-a80e-0bf4f270c762"
      },
      "execution_count": null,
      "outputs": [
        {
          "output_type": "stream",
          "name": "stdout",
          "text": [
            "tHIS iS a sENTENCE wITH a cAPITAL lETTER\n"
          ]
        }
      ]
    },
    {
      "cell_type": "code",
      "source": [
        "sentence.find('IS')\n",
        "sentence.rfind('This')"
      ],
      "metadata": {
        "colab": {
          "base_uri": "https://localhost:8080/"
        },
        "id": "I34vg3jH3ppz",
        "outputId": "ee39a0e5-6b40-44db-89e5-07c4fa809b57"
      },
      "execution_count": null,
      "outputs": [
        {
          "output_type": "execute_result",
          "data": {
            "text/plain": [
              "0"
            ]
          },
          "metadata": {},
          "execution_count": 6
        }
      ]
    },
    {
      "cell_type": "code",
      "source": [
        "print(' '.join(['This', 'is', 'CSE 301', 'course']))"
      ],
      "metadata": {
        "colab": {
          "base_uri": "https://localhost:8080/"
        },
        "id": "Hq2bmCFl3ptD",
        "outputId": "da07d089-7cc1-40c6-b459-de4ae181e400"
      },
      "execution_count": null,
      "outputs": [
        {
          "output_type": "stream",
          "name": "stdout",
          "text": [
            "This is CSE 301 course\n"
          ]
        }
      ]
    },
    {
      "cell_type": "code",
      "source": [
        "s = \"Hello, World!\"\n",
        "print(s[100])\n",
        "print(s[100:200])"
      ],
      "metadata": {
        "colab": {
          "base_uri": "https://localhost:8080/",
          "height": 176
        },
        "id": "ZPqxlblY3pvr",
        "outputId": "3625fc88-6bff-43cc-ea0a-6e01a50a974d"
      },
      "execution_count": null,
      "outputs": [
        {
          "output_type": "error",
          "ename": "IndexError",
          "evalue": "string index out of range",
          "traceback": [
            "\u001b[0;31m---------------------------------------------------------------------------\u001b[0m",
            "\u001b[0;31mIndexError\u001b[0m                                Traceback (most recent call last)",
            "\u001b[0;32m<ipython-input-8-1b7d680173e9>\u001b[0m in \u001b[0;36m<cell line: 0>\u001b[0;34m()\u001b[0m\n\u001b[1;32m      1\u001b[0m \u001b[0ms\u001b[0m \u001b[0;34m=\u001b[0m \u001b[0;34m\"Hello, World!\"\u001b[0m\u001b[0;34m\u001b[0m\u001b[0;34m\u001b[0m\u001b[0m\n\u001b[0;32m----> 2\u001b[0;31m \u001b[0mprint\u001b[0m\u001b[0;34m(\u001b[0m\u001b[0ms\u001b[0m\u001b[0;34m[\u001b[0m\u001b[0;36m100\u001b[0m\u001b[0;34m]\u001b[0m\u001b[0;34m)\u001b[0m\u001b[0;34m\u001b[0m\u001b[0;34m\u001b[0m\u001b[0m\n\u001b[0m\u001b[1;32m      3\u001b[0m \u001b[0mprint\u001b[0m\u001b[0;34m(\u001b[0m\u001b[0ms\u001b[0m\u001b[0;34m[\u001b[0m\u001b[0;36m100\u001b[0m\u001b[0;34m:\u001b[0m\u001b[0;36m200\u001b[0m\u001b[0;34m]\u001b[0m\u001b[0;34m)\u001b[0m\u001b[0;34m\u001b[0m\u001b[0;34m\u001b[0m\u001b[0m\n",
            "\u001b[0;31mIndexError\u001b[0m: string index out of range"
          ]
        }
      ]
    },
    {
      "cell_type": "code",
      "source": [
        "print(s[200:250:-1])"
      ],
      "metadata": {
        "colab": {
          "base_uri": "https://localhost:8080/"
        },
        "id": "d0XRtjX83pyj",
        "outputId": "a70aaa0a-dd6b-45f9-d6ac-ac5184eca045"
      },
      "execution_count": null,
      "outputs": [
        {
          "output_type": "stream",
          "name": "stdout",
          "text": [
            "\n"
          ]
        }
      ]
    },
    {
      "cell_type": "code",
      "source": [
        "print(s[::-2])"
      ],
      "metadata": {
        "colab": {
          "base_uri": "https://localhost:8080/"
        },
        "id": "PmtMaujr3p1b",
        "outputId": "7df0edfc-bf90-46fe-9c45-f9fd23448dde"
      },
      "execution_count": null,
      "outputs": [
        {
          "output_type": "stream",
          "name": "stdout",
          "text": [
            "!lo olH\n"
          ]
        }
      ]
    },
    {
      "cell_type": "code",
      "source": [
        "s = \"Hello, World!\"\n",
        "print(s[-8])"
      ],
      "metadata": {
        "colab": {
          "base_uri": "https://localhost:8080/"
        },
        "id": "0pDySxOS3-Xk",
        "outputId": "597bf224-0d42-4bfd-f126-26b82134fe7c"
      },
      "execution_count": null,
      "outputs": [
        {
          "output_type": "stream",
          "name": "stdout",
          "text": [
            ",\n"
          ]
        }
      ]
    },
    {
      "cell_type": "code",
      "source": [
        "print(s[-15])"
      ],
      "metadata": {
        "colab": {
          "base_uri": "https://localhost:8080/",
          "height": 141
        },
        "id": "-pr8sYK13-aT",
        "outputId": "ac4e0338-3ee2-45b1-dd38-8bf071785190"
      },
      "execution_count": null,
      "outputs": [
        {
          "output_type": "error",
          "ename": "IndexError",
          "evalue": "string index out of range",
          "traceback": [
            "\u001b[0;31m---------------------------------------------------------------------------\u001b[0m",
            "\u001b[0;31mIndexError\u001b[0m                                Traceback (most recent call last)",
            "\u001b[0;32m<ipython-input-12-6c3c972bead5>\u001b[0m in \u001b[0;36m<cell line: 0>\u001b[0;34m()\u001b[0m\n\u001b[0;32m----> 1\u001b[0;31m \u001b[0mprint\u001b[0m\u001b[0;34m(\u001b[0m\u001b[0ms\u001b[0m\u001b[0;34m[\u001b[0m\u001b[0;34m-\u001b[0m\u001b[0;36m15\u001b[0m\u001b[0;34m]\u001b[0m\u001b[0;34m)\u001b[0m\u001b[0;34m\u001b[0m\u001b[0;34m\u001b[0m\u001b[0m\n\u001b[0m",
            "\u001b[0;31mIndexError\u001b[0m: string index out of range"
          ]
        }
      ]
    },
    {
      "cell_type": "code",
      "source": [
        "print(s[1.5])"
      ],
      "metadata": {
        "colab": {
          "base_uri": "https://localhost:8080/",
          "height": 141
        },
        "id": "6e0dy9q-4EwU",
        "outputId": "cf43b225-4d3f-4f70-c55b-9a3c364bda0d"
      },
      "execution_count": null,
      "outputs": [
        {
          "output_type": "error",
          "ename": "TypeError",
          "evalue": "string indices must be integers, not 'float'",
          "traceback": [
            "\u001b[0;31m---------------------------------------------------------------------------\u001b[0m",
            "\u001b[0;31mTypeError\u001b[0m                                 Traceback (most recent call last)",
            "\u001b[0;32m<ipython-input-13-4e6fda23b6d7>\u001b[0m in \u001b[0;36m<cell line: 0>\u001b[0;34m()\u001b[0m\n\u001b[0;32m----> 1\u001b[0;31m \u001b[0mprint\u001b[0m\u001b[0;34m(\u001b[0m\u001b[0ms\u001b[0m\u001b[0;34m[\u001b[0m\u001b[0;36m1.5\u001b[0m\u001b[0;34m]\u001b[0m\u001b[0;34m)\u001b[0m\u001b[0;34m\u001b[0m\u001b[0;34m\u001b[0m\u001b[0m\n\u001b[0m",
            "\u001b[0;31mTypeError\u001b[0m: string indices must be integers, not 'float'"
          ]
        }
      ]
    },
    {
      "cell_type": "markdown",
      "source": [
        "**This difference exists because:**\n",
        "\n",
        "\n",
        "*   Indexing assumes you need exactly one character, so Python ensures the index is valid.\n",
        "*   Slicing assumes a range and allows flexibility, making it easier to handle dynamic cases where the range might exceed the string length.\n"
      ],
      "metadata": {
        "id": "98kI0X3i4JBd"
      }
    }
  ]
}