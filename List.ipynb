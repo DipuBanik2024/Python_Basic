{
  "nbformat": 4,
  "nbformat_minor": 0,
  "metadata": {
    "colab": {
      "provenance": []
    },
    "kernelspec": {
      "name": "python3",
      "display_name": "Python 3"
    },
    "language_info": {
      "name": "python"
    }
  },
  "cells": [
    {
      "cell_type": "markdown",
      "source": [
        "# **Topic: List**"
      ],
      "metadata": {
        "id": "Yoijj8P739y1"
      }
    },
    {
      "cell_type": "code",
      "execution_count": null,
      "metadata": {
        "colab": {
          "base_uri": "https://localhost:8080/"
        },
        "id": "YJzCGdEX37Sl",
        "outputId": "058a3dab-2b28-4b21-ff11-5aec2d321216"
      },
      "outputs": [
        {
          "output_type": "stream",
          "name": "stdout",
          "text": [
            "1\n",
            "[2, 3, 4]\n",
            "[1, 2, 10, 4, 5]\n",
            "5\n",
            "[1, 2, 3, 4, 5, 6]\n",
            "[1, 2, 3, 1, 2, 3, 1, 2, 3]\n",
            "[1, 2, 4, 5, 10]\n",
            "[10, 5, 4, 2, 1]\n",
            "[]\n"
          ]
        }
      ],
      "source": [
        "# prompt: all operation of list in python\n",
        "\n",
        "# Creating a list\n",
        "my_list = [1, 2, 3, 4, 5]\n",
        "\n",
        "# Accessing elements\n",
        "print(my_list[0])\n",
        "\n",
        "\n",
        "# Slicing\n",
        "print(my_list[1:4])\n",
        "\n",
        "# Modifying elements\n",
        "my_list[2] = 10\n",
        "print(my_list)\n",
        "\n",
        "\n",
        "\n",
        "\n",
        "# List length\n",
        "print(len(my_list))\n",
        "\n",
        "\n",
        "# List concatenation\n",
        "list1 = [1, 2, 3]\n",
        "list2 = [4, 5, 6]\n",
        "concatenated_list = list1 + list2\n",
        "print(concatenated_list)\n",
        "\n",
        "# List repetition\n",
        "repeated_list = list1 * 3\n",
        "print(repeated_list)\n",
        "\n",
        "# List sorting\n",
        "my_list.sort()\n",
        "print(my_list)\n",
        "\n",
        "# List reversing\n",
        "my_list.reverse()\n",
        "print(my_list)\n",
        "\n",
        "\n",
        "# Clearing a list\n",
        "my_list.clear()\n",
        "print(my_list)\n",
        "\n"
      ]
    },
    {
      "cell_type": "code",
      "source": [
        "my_list = [1, 2, 3, 4, 5]\n",
        "# Slicing\n",
        "print(my_list[1:4])\n",
        "# Adding elements\n",
        "my_list.append(7)\n",
        "print(my_list)\n",
        "\n",
        "my_list.extend([11,12,13])\n",
        "print(my_list)"
      ],
      "metadata": {
        "colab": {
          "base_uri": "https://localhost:8080/"
        },
        "id": "Vn5HgH444Hpk",
        "outputId": "1d3fa653-6067-4578-b2a5-1c38373dccdf"
      },
      "execution_count": null,
      "outputs": [
        {
          "output_type": "stream",
          "name": "stdout",
          "text": [
            "[2, 3, 4]\n",
            "[1, 2, 3, 4, 5, 7]\n",
            "[1, 2, 3, 4, 5, 7, 11, 12, 13]\n"
          ]
        }
      ]
    },
    {
      "cell_type": "code",
      "source": [
        "list6 = [1,2,3,4,5]\n",
        "list6.append([20,40,30])\n",
        "print(list6)\n",
        "list6.extend([20,40,30])\n",
        "print(list6)"
      ],
      "metadata": {
        "colab": {
          "base_uri": "https://localhost:8080/"
        },
        "id": "0m_d_yhc4HsT",
        "outputId": "13eff316-d196-49df-a3b5-00bb1c58da10"
      },
      "execution_count": null,
      "outputs": [
        {
          "output_type": "stream",
          "name": "stdout",
          "text": [
            "[1, 2, 3, 4, 5, [20, 40, 30]]\n",
            "[1, 2, 3, 4, 5, [20, 40, 30], 20, 40, 30]\n"
          ]
        }
      ]
    },
    {
      "cell_type": "code",
      "source": [
        "list7= [11,22,33]\n",
        "list7.append([99,98,97])\n",
        "print(list7)\n",
        "\n",
        "list7.insert(2, 'Python')\n",
        "print(list7)"
      ],
      "metadata": {
        "colab": {
          "base_uri": "https://localhost:8080/"
        },
        "id": "6S8rympA4Hxp",
        "outputId": "93e96e8d-d8f8-450a-d8a7-f591ae223699"
      },
      "execution_count": null,
      "outputs": [
        {
          "output_type": "stream",
          "name": "stdout",
          "text": [
            "[11, 22, 33, [99, 98, 97]]\n",
            "[11, 22, 'Python', 33, [99, 98, 97]]\n"
          ]
        }
      ]
    },
    {
      "cell_type": "code",
      "source": [
        "list8 = [1,1,1,2,3]\n",
        "# Removing elements\n",
        "list8.remove(1)\n",
        "print(list8)\n"
      ],
      "metadata": {
        "colab": {
          "base_uri": "https://localhost:8080/"
        },
        "id": "Yw7hgRBg4MyX",
        "outputId": "3e5a7cdf-4120-42eb-b36c-194e40226334"
      },
      "execution_count": null,
      "outputs": [
        {
          "output_type": "stream",
          "name": "stdout",
          "text": [
            "[1, 1, 2, 3]\n"
          ]
        }
      ]
    },
    {
      "cell_type": "code",
      "source": [
        "print(list8.pop()==list8[-1])"
      ],
      "metadata": {
        "colab": {
          "base_uri": "https://localhost:8080/"
        },
        "id": "kQaN_C_S4M1Z",
        "outputId": "4f751b10-373c-4eca-df80-c2e4bfb2a48b"
      },
      "execution_count": null,
      "outputs": [
        {
          "output_type": "stream",
          "name": "stdout",
          "text": [
            "False\n"
          ]
        }
      ]
    },
    {
      "cell_type": "code",
      "source": [
        "print(list8[-1] == list8.pop())"
      ],
      "metadata": {
        "colab": {
          "base_uri": "https://localhost:8080/"
        },
        "id": "4GlTfALZ4PA9",
        "outputId": "867c8ef4-b541-47b3-8ad4-439ef11670b5"
      },
      "execution_count": null,
      "outputs": [
        {
          "output_type": "stream",
          "name": "stdout",
          "text": [
            "True\n"
          ]
        }
      ]
    },
    {
      "cell_type": "code",
      "source": [
        "list9 = [10,20,30,40,50]\n",
        "popped_element = list9.pop()\n",
        "print(popped_element)\n",
        "print(list9)"
      ],
      "metadata": {
        "colab": {
          "base_uri": "https://localhost:8080/"
        },
        "id": "O_-zOCW54PD5",
        "outputId": "8ed003d7-0f57-4ba5-d2c9-be33a7288cd3"
      },
      "execution_count": null,
      "outputs": [
        {
          "output_type": "stream",
          "name": "stdout",
          "text": [
            "50\n",
            "[10, 20, 30, 40]\n"
          ]
        }
      ]
    },
    {
      "cell_type": "code",
      "source": [
        "# list_name[start:stop:step]\n",
        "\n",
        "my_list = [1, 2, 3, 4, 5, 6, 7, 8, 9, 10]\n",
        "print(my_list[1:7:2])\n",
        "print(my_list[1:7:-2])\n",
        "print(my_list[7:1:-2])\n",
        "print(my_list[1:])\n",
        "print(my_list[:7])\n",
        "print(my_list[::2])\n",
        "print(my_list[::-1])\n",
        "print(my_list[1:len(my_list):3])"
      ],
      "metadata": {
        "colab": {
          "base_uri": "https://localhost:8080/"
        },
        "id": "2cct_M184PGv",
        "outputId": "1c3a25fd-614f-48ce-f466-df529ee26171"
      },
      "execution_count": null,
      "outputs": [
        {
          "output_type": "stream",
          "name": "stdout",
          "text": [
            "[2, 4, 6]\n",
            "[]\n",
            "[8, 6, 4]\n",
            "[2, 3, 4, 5, 6, 7, 8, 9, 10]\n",
            "[1, 2, 3, 4, 5, 6, 7]\n",
            "[1, 3, 5, 7, 9]\n",
            "[10, 9, 8, 7, 6, 5, 4, 3, 2, 1]\n",
            "[2, 5, 8]\n"
          ]
        }
      ]
    },
    {
      "cell_type": "code",
      "source": [],
      "metadata": {
        "id": "-3VJffqo4PJd"
      },
      "execution_count": null,
      "outputs": []
    },
    {
      "cell_type": "code",
      "source": [],
      "metadata": {
        "id": "mF5etvpU4H0j"
      },
      "execution_count": null,
      "outputs": []
    }
  ]
}