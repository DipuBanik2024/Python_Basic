{
  "cells": [
    {
      "cell_type": "markdown",
      "metadata": {
        "id": "BktcCzFC5PsV"
      },
      "source": [
        "Union"
      ]
    },
    {
      "cell_type": "code",
      "source": [
        "a = {}\n",
        "print(type(a))\n",
        "a = {1,2,3}\n",
        "print(type(a))"
      ],
      "metadata": {
        "colab": {
          "base_uri": "https://localhost:8080/"
        },
        "id": "j-k5y8aYEs0k",
        "outputId": "98d6d34d-2d62-44fd-8090-47b356c8b456"
      },
      "execution_count": null,
      "outputs": [
        {
          "output_type": "stream",
          "name": "stdout",
          "text": [
            "<class 'dict'>\n",
            "<class 'set'>\n"
          ]
        }
      ]
    },
    {
      "cell_type": "code",
      "execution_count": null,
      "metadata": {
        "colab": {
          "base_uri": "https://localhost:8080/"
        },
        "id": "1yrkad2Dtt7u",
        "outputId": "fb785ee4-196f-4fd6-aedf-659c6de7cb81"
      },
      "outputs": [
        {
          "output_type": "stream",
          "name": "stdout",
          "text": [
            "{1, 2, 3, 4, 5}\n"
          ]
        }
      ],
      "source": [
        "set_a = {1, 2, 3}\n",
        "set_b = {3, 4, 5}\n",
        "\n",
        "# Using | operator\n",
        "union_set = set_a | set_b\n",
        "\n",
        "print(union_set)"
      ]
    },
    {
      "cell_type": "code",
      "execution_count": null,
      "metadata": {
        "colab": {
          "base_uri": "https://localhost:8080/"
        },
        "id": "BI4TLzAL-8tA",
        "outputId": "76b142a2-4132-4fda-cea5-ce9cf45abe15"
      },
      "outputs": [
        {
          "output_type": "stream",
          "name": "stdout",
          "text": [
            "{1, 2, 3, 4, 5}\n"
          ]
        }
      ],
      "source": [
        "# Using union() method\n",
        "set_a = {1, 2, 3}\n",
        "set_b = {3, 4, 5}\n",
        "union_set = set_b.union(set_a)\n",
        "print(union_set)"
      ]
    },
    {
      "cell_type": "markdown",
      "metadata": {
        "id": "5YHXaFk7uAb_"
      },
      "source": [
        " Intersection (& or .intersection())"
      ]
    },
    {
      "cell_type": "code",
      "execution_count": null,
      "metadata": {
        "colab": {
          "base_uri": "https://localhost:8080/"
        },
        "id": "WOtyVqVcuBbX",
        "outputId": "0c5540b6-2ac8-4f5f-cfdf-ea0e564f3d60"
      },
      "outputs": [
        {
          "output_type": "stream",
          "name": "stdout",
          "text": [
            "{3}\n"
          ]
        }
      ],
      "source": [
        "set_a = {1, 2, 3}\n",
        "set_b = { 3, 4, 5}\n",
        "\n",
        "# Using & operator\n",
        "intersection_set = set_a & set_b\n",
        "\n",
        "# Using intersection() method\n",
        "intersection_set1 = set_a.intersection(set_b)\n",
        "\n",
        "print(intersection_set)"
      ]
    },
    {
      "cell_type": "markdown",
      "metadata": {
        "id": "2EPyjZqsuHfO"
      },
      "source": [
        " Difference (- or .difference())"
      ]
    },
    {
      "cell_type": "code",
      "execution_count": null,
      "metadata": {
        "colab": {
          "base_uri": "https://localhost:8080/"
        },
        "id": "-daF_2AcuDWW",
        "outputId": "fc0090c8-61ed-47e2-a8ce-36f7c035ab66"
      },
      "outputs": [
        {
          "output_type": "stream",
          "name": "stdout",
          "text": [
            "{5, 6}\n",
            "{4}\n",
            "False\n"
          ]
        }
      ],
      "source": [
        "set_a = {1, 2, 3, 4}\n",
        "set_b = {1, 2, 3,5,6}\n",
        "\n",
        "# Using - operator\n",
        "difference_set = set_b - set_a\n",
        "print(difference_set)\n",
        "print(set_a - set_b)\n",
        "\n",
        "print(set_b - set_a == set_a - set_b)\n"
      ]
    },
    {
      "cell_type": "code",
      "execution_count": null,
      "metadata": {
        "id": "ZAnwZGIm_3T4"
      },
      "outputs": [],
      "source": [
        "set_a = {1,2,3}\n",
        "set_b = {3}\n",
        "\n",
        "# Using difference() method\n",
        "difference_set = set_b.difference(set_a)"
      ]
    },
    {
      "cell_type": "code",
      "execution_count": null,
      "metadata": {
        "colab": {
          "base_uri": "https://localhost:8080/"
        },
        "id": "nwuJ7yHmACIf",
        "outputId": "1d656d6d-ed3f-41eb-fd52-3573aec16b3b"
      },
      "outputs": [
        {
          "name": "stdout",
          "output_type": "stream",
          "text": [
            "False\n"
          ]
        }
      ],
      "source": [
        "print((set_a - set_b) == (set_b - set_a))"
      ]
    },
    {
      "cell_type": "markdown",
      "metadata": {
        "id": "PVN7MtYOuWj_"
      },
      "source": [
        "Symmetric Difference (^ or .symmetric_difference())"
      ]
    },
    {
      "cell_type": "code",
      "execution_count": null,
      "metadata": {
        "colab": {
          "base_uri": "https://localhost:8080/"
        },
        "id": "yXiCkRmpuZX-",
        "outputId": "760c19ff-3fca-46a3-c3bb-e0a67b284943"
      },
      "outputs": [
        {
          "output_type": "stream",
          "name": "stdout",
          "text": [
            "{1, 2, 5}\n"
          ]
        }
      ],
      "source": [
        "set_a = {1, 2, 3, 4}\n",
        "set_b = {3, 4, 5}\n",
        "\n",
        "# Using ^ operator\n",
        "sym_diff_set = set_b ^ set_a\n",
        "\n",
        "# Using symmetric_difference() method\n",
        "#sym_diff_set = set_a.symmetric_difference(set_b)\n",
        "\n",
        "print(sym_diff_set)\n"
      ]
    },
    {
      "cell_type": "markdown",
      "metadata": {
        "id": "VJRZbeifusC3"
      },
      "source": [
        "Subset and Superset"
      ]
    },
    {
      "cell_type": "code",
      "execution_count": null,
      "metadata": {
        "colab": {
          "base_uri": "https://localhost:8080/"
        },
        "id": "8ByH_b-3uuVd",
        "outputId": "9296d698-a027-45d1-bb09-30c2f467d21d"
      },
      "outputs": [
        {
          "output_type": "stream",
          "name": "stdout",
          "text": [
            "False\n",
            "False\n"
          ]
        }
      ],
      "source": [
        "a = {4,5}\n",
        "b = {1, 2, 3, 4}\n",
        "\n",
        "# Check if set_a is a subset of set_b\n",
        "print(a <= b)\n",
        "\n",
        "# Check if set_b is a superset of set_a\n",
        "print(b >= a)  # Output: True\n"
      ]
    },
    {
      "cell_type": "code",
      "source": [
        "my_list = [1, 2, 2, 3, 4, 4, 5]\n",
        "unique_elements = set(my_list)\n",
        "print(unique_elements)"
      ],
      "metadata": {
        "colab": {
          "base_uri": "https://localhost:8080/"
        },
        "id": "xEwsj4N_GJBj",
        "outputId": "218d5816-5a9a-436f-d0f8-cfcfa6e67e66"
      },
      "execution_count": null,
      "outputs": [
        {
          "output_type": "stream",
          "name": "stdout",
          "text": [
            "{1, 2, 3, 4, 5}\n"
          ]
        }
      ]
    },
    {
      "cell_type": "code",
      "source": [
        "my_set = {1, 2, 3, 4, 5}\n",
        "print(3 in my_set)\n",
        "print(6 in my_set)"
      ],
      "metadata": {
        "colab": {
          "base_uri": "https://localhost:8080/"
        },
        "id": "h2kz0oKYGMhi",
        "outputId": "ba61523b-21f8-479f-eb6f-d2ca75d36460"
      },
      "execution_count": null,
      "outputs": [
        {
          "output_type": "stream",
          "name": "stdout",
          "text": [
            "True\n",
            "False\n"
          ]
        }
      ]
    },
    {
      "cell_type": "code",
      "source": [
        "my_list = [1, 2, 2, 3, 3, 3, 4]\n",
        "distinct_count = len(set(my_list))\n",
        "print(distinct_count)"
      ],
      "metadata": {
        "colab": {
          "base_uri": "https://localhost:8080/"
        },
        "id": "TIyO3k6pGSpq",
        "outputId": "f8912ff0-7cd5-48ed-9dad-37cd78d84ecc"
      },
      "execution_count": null,
      "outputs": [
        {
          "output_type": "stream",
          "name": "stdout",
          "text": [
            "4\n"
          ]
        }
      ]
    },
    {
      "cell_type": "code",
      "source": [
        "my_set = {1, 2, 3}\n",
        "my_set.add(4)\n",
        "print(my_set)\n",
        "\n",
        "my_set.add(2)\n",
        "print(my_set)"
      ],
      "metadata": {
        "colab": {
          "base_uri": "https://localhost:8080/"
        },
        "id": "Rq2r4W_sGc3C",
        "outputId": "97a4c520-75e7-4116-8192-e25cb3300c85"
      },
      "execution_count": null,
      "outputs": [
        {
          "output_type": "stream",
          "name": "stdout",
          "text": [
            "{1, 2, 3, 4}\n",
            "{1, 2, 3, 4}\n"
          ]
        }
      ]
    },
    {
      "cell_type": "code",
      "source": [
        "my_set = {1, 2, 3}\n",
        "my_set.update([4, 5, 6])\n",
        "print(my_set)\n",
        "\n",
        "my_set.update({7, 8}, (9, 10))\n",
        "print(my_set)"
      ],
      "metadata": {
        "colab": {
          "base_uri": "https://localhost:8080/"
        },
        "id": "rGf002GcGryi",
        "outputId": "21e12fb2-4079-4166-a1a1-e07eb8d7eec4"
      },
      "execution_count": null,
      "outputs": [
        {
          "output_type": "stream",
          "name": "stdout",
          "text": [
            "{1, 2, 3, 4, 5, 6}\n",
            "{1, 2, 3, 4, 5, 6, 7, 8, 9, 10}\n"
          ]
        }
      ]
    },
    {
      "cell_type": "code",
      "source": [
        "my_set = {1, 2, 3}\n",
        "my_tuple = (4, 5)\n",
        "\n",
        "\n",
        "my_set.add(my_tuple)\n",
        "print(my_set)"
      ],
      "metadata": {
        "id": "8Pt7ZUoEG9Pk",
        "outputId": "71b421f2-9e8d-4d03-8aca-8c8106f449b7",
        "colab": {
          "base_uri": "https://localhost:8080/"
        }
      },
      "execution_count": null,
      "outputs": [
        {
          "output_type": "stream",
          "name": "stdout",
          "text": [
            "{(4, 5), 1, 2, 3}\n"
          ]
        }
      ]
    },
    {
      "cell_type": "code",
      "source": [
        "my_set = {1, 2, 3}\n",
        "my_list = [4, 5, 6]\n",
        "\n",
        "\n",
        "my_set.add(my_list)\n",
        "print(my_set)"
      ],
      "metadata": {
        "id": "3A5tBbvWHBGK",
        "outputId": "917c0686-a584-4a51-9a7f-5437016f3245",
        "colab": {
          "base_uri": "https://localhost:8080/",
          "height": 193
        }
      },
      "execution_count": null,
      "outputs": [
        {
          "output_type": "error",
          "ename": "TypeError",
          "evalue": "unhashable type: 'list'",
          "traceback": [
            "\u001b[0;31m---------------------------------------------------------------------------\u001b[0m",
            "\u001b[0;31mTypeError\u001b[0m                                 Traceback (most recent call last)",
            "\u001b[0;32m<ipython-input-27-0768add053c3>\u001b[0m in \u001b[0;36m<cell line: 0>\u001b[0;34m()\u001b[0m\n\u001b[1;32m      3\u001b[0m \u001b[0;34m\u001b[0m\u001b[0m\n\u001b[1;32m      4\u001b[0m \u001b[0;34m\u001b[0m\u001b[0m\n\u001b[0;32m----> 5\u001b[0;31m \u001b[0mmy_set\u001b[0m\u001b[0;34m.\u001b[0m\u001b[0madd\u001b[0m\u001b[0;34m(\u001b[0m\u001b[0mmy_list\u001b[0m\u001b[0;34m)\u001b[0m\u001b[0;34m\u001b[0m\u001b[0;34m\u001b[0m\u001b[0m\n\u001b[0m\u001b[1;32m      6\u001b[0m \u001b[0mprint\u001b[0m\u001b[0;34m(\u001b[0m\u001b[0mmy_set\u001b[0m\u001b[0;34m)\u001b[0m\u001b[0;34m\u001b[0m\u001b[0;34m\u001b[0m\u001b[0m\n",
            "\u001b[0;31mTypeError\u001b[0m: unhashable type: 'list'"
          ]
        }
      ]
    },
    {
      "cell_type": "code",
      "source": [
        "set_1 = {1,2,3}\n",
        "set_2 = {5,6}\n",
        "\n",
        "set_1.add(set_2)\n",
        "print(set_1)"
      ],
      "metadata": {
        "colab": {
          "base_uri": "https://localhost:8080/",
          "height": 193
        },
        "id": "FMJDhK-2N3Wh",
        "outputId": "ea9ae428-96c9-4b19-dbac-bda482d2fd4f"
      },
      "execution_count": null,
      "outputs": [
        {
          "output_type": "error",
          "ename": "TypeError",
          "evalue": "unhashable type: 'set'",
          "traceback": [
            "\u001b[0;31m---------------------------------------------------------------------------\u001b[0m",
            "\u001b[0;31mTypeError\u001b[0m                                 Traceback (most recent call last)",
            "\u001b[0;32m<ipython-input-28-882207a3d6cc>\u001b[0m in \u001b[0;36m<cell line: 0>\u001b[0;34m()\u001b[0m\n\u001b[1;32m      2\u001b[0m \u001b[0mset_2\u001b[0m \u001b[0;34m=\u001b[0m \u001b[0;34m{\u001b[0m\u001b[0;36m5\u001b[0m\u001b[0;34m,\u001b[0m\u001b[0;36m6\u001b[0m\u001b[0;34m}\u001b[0m\u001b[0;34m\u001b[0m\u001b[0;34m\u001b[0m\u001b[0m\n\u001b[1;32m      3\u001b[0m \u001b[0;34m\u001b[0m\u001b[0m\n\u001b[0;32m----> 4\u001b[0;31m \u001b[0mset_1\u001b[0m\u001b[0;34m.\u001b[0m\u001b[0madd\u001b[0m\u001b[0;34m(\u001b[0m\u001b[0mset_2\u001b[0m\u001b[0;34m)\u001b[0m\u001b[0;34m\u001b[0m\u001b[0;34m\u001b[0m\u001b[0m\n\u001b[0m\u001b[1;32m      5\u001b[0m \u001b[0mprint\u001b[0m\u001b[0;34m(\u001b[0m\u001b[0mset_1\u001b[0m\u001b[0;34m)\u001b[0m\u001b[0;34m\u001b[0m\u001b[0;34m\u001b[0m\u001b[0m\n",
            "\u001b[0;31mTypeError\u001b[0m: unhashable type: 'set'"
          ]
        }
      ]
    }
  ],
  "metadata": {
    "colab": {
      "provenance": []
    },
    "kernelspec": {
      "display_name": "Python 3",
      "name": "python3"
    },
    "language_info": {
      "name": "python"
    }
  },
  "nbformat": 4,
  "nbformat_minor": 0
}