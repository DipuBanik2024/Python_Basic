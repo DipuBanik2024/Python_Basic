{
  "nbformat": 4,
  "nbformat_minor": 0,
  "metadata": {
    "colab": {
      "provenance": []
    },
    "kernelspec": {
      "name": "python3",
      "display_name": "Python 3"
    },
    "language_info": {
      "name": "python"
    }
  },
  "cells": [
    {
      "cell_type": "markdown",
      "source": [
        "## **Abstract Class**\n",
        "src: https://www.geeksforgeeks.org/abstract-classes-in-python/\n",
        "\n",
        "\n",
        "An abstract class can be considered a blueprint for other classes. It allows you to create a set of methods that must be created within any child classes built from the abstract class.\n",
        "\n",
        "A class that contains one or more abstract methods is called an abstract class. An abstract method is a method that has a declaration but does not have an implementation.\n",
        "\n",
        "We use an abstract class while we are designing large functional units or when we want to provide a common interface for different implementations of a component.\n",
        "\n",
        "\n",
        "By default, Python does not provide abstract classes. Python comes with a module that provides the base for defining **Abstract Base classes(ABC)** and that module name is ABC."
      ],
      "metadata": {
        "id": "z8vm-rrN1Mta"
      }
    },
    {
      "cell_type": "code",
      "execution_count": null,
      "metadata": {
        "id": "YMpgOVqBzBdR"
      },
      "outputs": [],
      "source": [
        "from abc import ABC, abstractmethod\n",
        "\n",
        "class Myclass(ABC):\n",
        "\n",
        "  @abstractmethod\n",
        "  def mymethod(self):\n",
        "    pass\n",
        "\n",
        "m = Myclass()#wrong\n"
      ]
    },
    {
      "cell_type": "markdown",
      "source": [
        "we cannot initiate an abstract class"
      ],
      "metadata": {
        "id": "15CqeTnU8Ife"
      }
    },
    {
      "cell_type": "code",
      "source": [
        "#a childclass must inherite the abstract method\n",
        "#abstract method er kono body thake na\n",
        "#jodi abstract mehtod override na kori tahole subclass tao abstract class er moto bhv korbe\n",
        "\n",
        "from abc import ABC, abstractmethod\n",
        "\n",
        "class Myclass(ABC):\n",
        "  @abstractmethod\n",
        "  def mymethod(self):\n",
        "    pass\n",
        "\n",
        "class Subclass(Myclass):\n",
        "\n",
        "  def method2(self):\n",
        "    print(\"method2\")\n",
        "\n",
        "sc = Subclass()\n",
        "sc.method2()"
      ],
      "metadata": {
        "colab": {
          "base_uri": "https://localhost:8080/"
        },
        "id": "-yl9rr498SC8",
        "outputId": "7f5d1828-f6bb-4a33-d78b-0f85917aea1b"
      },
      "execution_count": null,
      "outputs": [
        {
          "output_type": "stream",
          "name": "stdout",
          "text": [
            "method2\n"
          ]
        }
      ]
    },
    {
      "cell_type": "code",
      "source": [
        "from abc import ABC, abstractmethod\n",
        "\n",
        "class Myclass(ABC):\n",
        "  @abstractmethod\n",
        "  def mymethod(self):\n",
        "    pass\n",
        "\n",
        "class Subclass(Myclass):\n",
        "  def mymethod(self):\n",
        "    print('mymethod')\n",
        "\n",
        "  def method2(self):\n",
        "    print(\"method2\")\n",
        "\n",
        "sc = Subclass()\n",
        "sc.method2()"
      ],
      "metadata": {
        "colab": {
          "base_uri": "https://localhost:8080/"
        },
        "id": "xj8yVvzU_dP0",
        "outputId": "bf257aef-7407-48ab-e711-869d720b293b"
      },
      "execution_count": null,
      "outputs": [
        {
          "output_type": "stream",
          "name": "stdout",
          "text": [
            "method2\n"
          ]
        }
      ]
    },
    {
      "cell_type": "code",
      "source": [
        "from abc import ABC, abstractmethod\n",
        "\n",
        "class Myclass(ABC):\n",
        "  @abstractmethod\n",
        "  def mymethod(self):\n",
        "    pass\n",
        "\n",
        "  def con_method(self):\n",
        "    print('from a concrete method')\n",
        "\n",
        "class Subclass(Myclass):\n",
        "  def mymethod(self):\n",
        "    print('mymethod')\n",
        "\n",
        "  def method2(self):\n",
        "    print(\"method2\")\n",
        "\n",
        "sc = Subclass()\n",
        "sc.method2()"
      ],
      "metadata": {
        "colab": {
          "base_uri": "https://localhost:8080/"
        },
        "id": "_no0_gfR852J",
        "outputId": "8414b361-e85a-4de1-bb28-f9bbfbba594d"
      },
      "execution_count": null,
      "outputs": [
        {
          "output_type": "stream",
          "name": "stdout",
          "text": [
            "method2\n"
          ]
        }
      ]
    },
    {
      "cell_type": "code",
      "source": [
        "from abc import ABC, abstractmethod\n",
        "\n",
        "class Parent(ABC):\n",
        "  @abstractmethod\n",
        "  def method1(self):\n",
        "    pass\n",
        "\n",
        "class Child(Parent):\n",
        "  @abstractmethod\n",
        "  def method2(self):\n",
        "    pass\n",
        "\n",
        "class Grandchild(Child):\n",
        "\n",
        "\n",
        "  def method2(self):\n",
        "    print('This is method 2')\n",
        "\n",
        "  def method1(self):\n",
        "    print('This is method 1')\n",
        "\n",
        "gc = Grandchild()\n",
        "gc.method1()\n",
        "gc.method2()\n",
        "gc.method3()"
      ],
      "metadata": {
        "colab": {
          "base_uri": "https://localhost:8080/",
          "height": 211
        },
        "id": "98KzqEx9FnC_",
        "outputId": "db8e4f73-df8d-42e6-a946-ef392da4cd20"
      },
      "execution_count": null,
      "outputs": [
        {
          "output_type": "stream",
          "name": "stdout",
          "text": [
            "This is method 1\n",
            "This is method 2\n"
          ]
        },
        {
          "output_type": "error",
          "ename": "AttributeError",
          "evalue": "'Grandchild' object has no attribute 'method3'",
          "traceback": [
            "\u001b[0;31m---------------------------------------------------------------------------\u001b[0m",
            "\u001b[0;31mAttributeError\u001b[0m                            Traceback (most recent call last)",
            "\u001b[0;32m<ipython-input-7-6245884a3066>\u001b[0m in \u001b[0;36m<cell line: 0>\u001b[0;34m()\u001b[0m\n\u001b[1;32m     23\u001b[0m \u001b[0mgc\u001b[0m\u001b[0;34m.\u001b[0m\u001b[0mmethod1\u001b[0m\u001b[0;34m(\u001b[0m\u001b[0;34m)\u001b[0m\u001b[0;34m\u001b[0m\u001b[0;34m\u001b[0m\u001b[0m\n\u001b[1;32m     24\u001b[0m \u001b[0mgc\u001b[0m\u001b[0;34m.\u001b[0m\u001b[0mmethod2\u001b[0m\u001b[0;34m(\u001b[0m\u001b[0;34m)\u001b[0m\u001b[0;34m\u001b[0m\u001b[0;34m\u001b[0m\u001b[0m\n\u001b[0;32m---> 25\u001b[0;31m \u001b[0mgc\u001b[0m\u001b[0;34m.\u001b[0m\u001b[0mmethod3\u001b[0m\u001b[0;34m(\u001b[0m\u001b[0;34m)\u001b[0m\u001b[0;34m\u001b[0m\u001b[0;34m\u001b[0m\u001b[0m\n\u001b[0m",
            "\u001b[0;31mAttributeError\u001b[0m: 'Grandchild' object has no attribute 'method3'"
          ]
        }
      ]
    },
    {
      "cell_type": "code",
      "source": [],
      "metadata": {
        "id": "1OmJmy0LFm_r"
      },
      "execution_count": null,
      "outputs": []
    },
    {
      "cell_type": "code",
      "source": [],
      "metadata": {
        "id": "DEvy2Wp9Fm8W"
      },
      "execution_count": null,
      "outputs": []
    },
    {
      "cell_type": "code",
      "source": [],
      "metadata": {
        "id": "LVzxgnSMFm5s"
      },
      "execution_count": null,
      "outputs": []
    }
  ]
}