{
  "nbformat": 4,
  "nbformat_minor": 0,
  "metadata": {
    "colab": {
      "provenance": []
    },
    "kernelspec": {
      "name": "python3",
      "display_name": "Python 3"
    },
    "language_info": {
      "name": "python"
    }
  },
  "cells": [
    {
      "cell_type": "code",
      "execution_count": null,
      "metadata": {
        "colab": {
          "base_uri": "https://localhost:8080/"
        },
        "id": "hWlkvkELDp7j",
        "outputId": "e7363ff8-5b7c-43d9-f11f-96663e08f101"
      },
      "outputs": [
        {
          "output_type": "stream",
          "name": "stdout",
          "text": [
            "20\n"
          ]
        }
      ],
      "source": [
        "def multiplication(a,b):\n",
        "  return(a*b)\n",
        "\n",
        "print(multiplication(10,2))\n"
      ]
    },
    {
      "cell_type": "code",
      "source": [
        "def average():\n",
        "  pass"
      ],
      "metadata": {
        "id": "KtXH63ds7xte"
      },
      "execution_count": null,
      "outputs": []
    },
    {
      "cell_type": "code",
      "source": [
        "def hello2():\n",
        "    print(\"Hello, World!\")"
      ],
      "metadata": {
        "colab": {
          "base_uri": "https://localhost:8080/"
        },
        "id": "ws5pMJx1vBve",
        "outputId": "a5710134-82c3-4f3b-b179-56d373878c28"
      },
      "execution_count": null,
      "outputs": [
        {
          "output_type": "stream",
          "name": "stdout",
          "text": [
            "4\n"
          ]
        }
      ]
    },
    {
      "cell_type": "code",
      "source": [
        "def greet(name, name1):\n",
        "    print(\"Hello\", name,name1)\n",
        "\n",
        "greet(\"Alice\",'Jeem')"
      ],
      "metadata": {
        "colab": {
          "base_uri": "https://localhost:8080/"
        },
        "id": "n4DsiJd9vHS4",
        "outputId": "23f12b52-419b-46be-df25-58f792c917a2"
      },
      "execution_count": null,
      "outputs": [
        {
          "output_type": "stream",
          "name": "stdout",
          "text": [
            "[1, 2, 3]\n"
          ]
        }
      ]
    },
    {
      "cell_type": "code",
      "source": [
        "def add(a=0,b=0,c=0):\n",
        "    return a + b + c\n",
        "\n",
        "result = add(5)\n",
        "print(result)"
      ],
      "metadata": {
        "colab": {
          "base_uri": "https://localhost:8080/"
        },
        "id": "k9ed4fI6vJKm",
        "outputId": "d926cf2e-5e83-4d61-a5f2-d1c8b18d1e1a"
      },
      "execution_count": null,
      "outputs": [
        {
          "output_type": "stream",
          "name": "stdout",
          "text": [
            "2\n"
          ]
        }
      ]
    },
    {
      "cell_type": "code",
      "source": [
        "def add_all(*numbers):\n",
        "    for i in numbers:\n",
        "      print(i)\n",
        "    print(sum(numbers))\n",
        "\n",
        "add_all(1,2,3,4)"
      ],
      "metadata": {
        "colab": {
          "base_uri": "https://localhost:8080/"
        },
        "id": "RoUBay65vNIW",
        "outputId": "85da6d8b-884e-44d8-e7b9-001a61397ad9"
      },
      "execution_count": null,
      "outputs": [
        {
          "output_type": "stream",
          "name": "stdout",
          "text": [
            "[1, 3]\n"
          ]
        }
      ]
    },
    {
      "cell_type": "code",
      "source": [
        "def sum_num(*a):\n",
        "  result = sum(a)\n",
        "  return result\n",
        "\n",
        "result  = sum_num(1,2,3,3,4,5)\n",
        "print(result)"
      ],
      "metadata": {
        "colab": {
          "base_uri": "https://localhost:8080/"
        },
        "id": "Nz2tCatXx1uX",
        "outputId": "1949e67b-8e31-464d-ee19-4e8f3ff61322"
      },
      "execution_count": null,
      "outputs": [
        {
          "output_type": "execute_result",
          "data": {
            "text/plain": [
              "[]"
            ]
          },
          "metadata": {},
          "execution_count": 5
        }
      ]
    },
    {
      "cell_type": "code",
      "source": [
        "def m(*a):\n",
        "  result = 1\n",
        "  for i in a:\n",
        "    result*=i\n",
        "  return result\n",
        "\n",
        "\n",
        "print(m(1,2,3,4,5))"
      ],
      "metadata": {
        "id": "NaMJ29Snx4tn"
      },
      "execution_count": null,
      "outputs": []
    },
    {
      "cell_type": "code",
      "source": [
        "x = 10\n",
        "\n",
        "def example():\n",
        "    x = 5\n",
        "    print(x)\n",
        "\n",
        "example()\n",
        "print(x)"
      ],
      "metadata": {
        "id": "Nj4bKc7A8ETh"
      },
      "execution_count": null,
      "outputs": []
    },
    {
      "cell_type": "code",
      "source": [
        "#pass list as an argument\n",
        "def print_list(items):\n",
        "    for item in items:\n",
        "        print(item)\n",
        "\n",
        "my_list = [1, 2, 3, 4, 5]\n",
        "print_list(my_list)"
      ],
      "metadata": {
        "id": "TLF4aJ8t8EWW"
      },
      "execution_count": null,
      "outputs": []
    },
    {
      "cell_type": "code",
      "source": [
        "def max_fun(list1):\n",
        "   return max(list1)\n",
        "\n",
        "list2 = [1,2,5,30,5,9]\n",
        "print(max_fun(list2))"
      ],
      "metadata": {
        "id": "EVAulx9T8EY-"
      },
      "execution_count": null,
      "outputs": []
    },
    {
      "cell_type": "code",
      "source": [
        "def max_fun(list1):\n",
        "  max_value = 0\n",
        "  for i in list1:\n",
        "    if i>max_value:\n",
        "      max_value = i\n",
        "  return max_value\n",
        "\n",
        "list2 = [10,1,3,5,1,0]\n",
        "print(max_fun(list2))"
      ],
      "metadata": {
        "id": "oOLJB4Aq8Eb2"
      },
      "execution_count": null,
      "outputs": []
    },
    {
      "cell_type": "code",
      "source": [
        "def grade_count(marks):\n",
        "  count = 0\n",
        "  for i in marks:\n",
        "    if i >= 80:\n",
        "      count += 1\n",
        "  return count\n",
        "\n",
        "students_marks = [70,45,67,99,97,80]\n",
        "print(grade_count(students_marks))"
      ],
      "metadata": {
        "id": "7RdSuGwg8KZC"
      },
      "execution_count": null,
      "outputs": []
    },
    {
      "cell_type": "code",
      "source": [
        "def square_elements(nums):\n",
        "    squared_numbers = []\n",
        "    for num in nums:\n",
        "        squared_numbers.append(num ** 2)\n",
        "    return squared_numbers\n",
        "\n",
        "my_numbers = [1, 2, 3, 4]\n",
        "squared = square_elements(my_numbers)\n",
        "print(squared)"
      ],
      "metadata": {
        "id": "-QRLseSz8Kbw"
      },
      "execution_count": null,
      "outputs": []
    },
    {
      "cell_type": "code",
      "source": [
        "#pass multiple list in function\n",
        "def merge_lists(list1, list2):\n",
        "    return list1 + list2\n",
        "\n",
        "list_a = [1, 2, 3]\n",
        "list_b = [4, 5, 6]\n",
        "combined = merge_lists(list_a, list_b)\n",
        "print(combined)"
      ],
      "metadata": {
        "id": "6XOH_-0r8KfK"
      },
      "execution_count": null,
      "outputs": []
    },
    {
      "cell_type": "code",
      "source": [
        "def concatenate_lists(*v):\n",
        "  result = []\n",
        "  for i in v:\n",
        "    result.append(sum(i))\n",
        "\n",
        "  return max(result)\n",
        "\n",
        "list_1 = [81,90,78]\n",
        "list_2 = [99,80,79]\n",
        "list_3 = [78,77,80]\n",
        "\n",
        "\n",
        "print(concatenate_lists(list_1,list_2,list_3))\n",
        "#summation = concatenate_lists(list_1, list_2, list_3,list_4)\n",
        "#print(summation)"
      ],
      "metadata": {
        "id": "u7hz_WT18SCP"
      },
      "execution_count": null,
      "outputs": []
    },
    {
      "cell_type": "code",
      "source": [
        "st_1 = [80,50,69,21]\n",
        "st_2 = [80,97.56,33]\n",
        "st_3 = [80,59,60,21]\n",
        "st_4 = [67,50,69,85]"
      ],
      "metadata": {
        "id": "5tNN_YxL8SH_"
      },
      "execution_count": null,
      "outputs": []
    },
    {
      "cell_type": "code",
      "source": [
        "# Function that takes a tuple as an argument\n",
        "def print_tuple(my_tuple):\n",
        "    for item in my_tuple:\n",
        "        print(item)\n",
        "\n",
        "example_tuple = (1, 2, 3, 4, 5)\n",
        "\n",
        "print_tuple(example_tuple)"
      ],
      "metadata": {
        "id": "_5ywVIok8SFU"
      },
      "execution_count": null,
      "outputs": []
    },
    {
      "cell_type": "code",
      "source": [
        "# Function that takes a dictionary as an argument\n",
        "\n",
        "def print_dictionary(my_dict):\n",
        "    for key, value in my_dict.items():\n",
        "        print(key)\n",
        "        print(value)\n",
        "\n",
        "example_dict = {\"name\": \"Alice\",\n",
        "                \"age\": 30,\n",
        "                \"city\": \"New York\"}\n",
        "\n",
        "print_dictionary(example_dict)"
      ],
      "metadata": {
        "id": "MdmT3bKF8hsr",
        "colab": {
          "base_uri": "https://localhost:8080/"
        },
        "outputId": "3734e49b-1391-4340-e4c4-f9a36148149b"
      },
      "execution_count": null,
      "outputs": [
        {
          "output_type": "stream",
          "name": "stdout",
          "text": [
            "name\n",
            "Alice\n",
            "age\n",
            "30\n",
            "city\n",
            "New York\n"
          ]
        }
      ]
    },
    {
      "cell_type": "code",
      "source": [
        "def print_keys(d):\n",
        "  for i in d.values():\n",
        "    print(i)\n",
        "\n",
        "example_dict = {\"name\": \"Alice\",\n",
        "                \"age\": 30,\n",
        "                \"city\": \"New York\"}\n",
        "\n",
        "print_keys(example_dict)"
      ],
      "metadata": {
        "id": "duG1IZl58hvU",
        "colab": {
          "base_uri": "https://localhost:8080/"
        },
        "outputId": "3d0635d5-7ec8-4380-9e7e-4921469b2061"
      },
      "execution_count": null,
      "outputs": [
        {
          "output_type": "stream",
          "name": "stdout",
          "text": [
            "Alice\n",
            "30\n",
            "New York\n"
          ]
        }
      ]
    },
    {
      "cell_type": "code",
      "source": [
        "# Function that takes a dictionary as an argument\n",
        "\n",
        "def print_dictionary(my_dict):\n",
        "    for i in my_dict.items():\n",
        "        print(i)\n",
        "\n",
        "example_dict = {\"name\": \"Alice\",\n",
        "                \"age\": 30,\n",
        "                \"city\": \"New York\"}\n",
        "\n",
        "print_dictionary(example_dict)"
      ],
      "metadata": {
        "id": "D5JRKN_M8hyM"
      },
      "execution_count": null,
      "outputs": []
    },
    {
      "cell_type": "code",
      "source": [
        "def sum_values(data):\n",
        "    total = sum(data.values())\n",
        "    return total\n",
        "\n",
        "# Example usage\n",
        "numbers = {'a': 10, 'b': 20, 'c': 30}\n",
        "x = sum_values(numbers)\n",
        "print(x)"
      ],
      "metadata": {
        "id": "qXsqYCQi8h0z"
      },
      "execution_count": null,
      "outputs": []
    },
    {
      "cell_type": "code",
      "source": [
        "def calculate_marks(students):\n",
        "    results = {}\n",
        "\n",
        "    for s in students.keys():\n",
        "        total = sum(students[s])\n",
        "        print(students[s])\n",
        "        results[s] = total\n",
        "\n",
        "    return results\n",
        "\n",
        "students_marks = {\n",
        "    'Alice': [85, 90, 78],\n",
        "    'Bob': [70, 82, 88],\n",
        "    'Charlie': [95, 85, 90],\n",
        "}\n",
        "marks_summary = calculate_marks(students_marks)\n",
        "print(marks_summary)\n"
      ],
      "metadata": {
        "id": "g2uTmP3U8h3s",
        "colab": {
          "base_uri": "https://localhost:8080/"
        },
        "outputId": "061bef5d-f99a-4c78-e524-0e0513788dca"
      },
      "execution_count": null,
      "outputs": [
        {
          "output_type": "stream",
          "name": "stdout",
          "text": [
            "[85, 90, 78]\n",
            "[70, 82, 88]\n",
            "[95, 85, 90]\n",
            "{'Alice': 253, 'Bob': 240, 'Charlie': 270}\n"
          ]
        }
      ]
    },
    {
      "cell_type": "markdown",
      "source": [],
      "metadata": {
        "id": "O-jUiP3i8u7d"
      }
    },
    {
      "cell_type": "code",
      "source": [
        "def total_marks(*s):\n",
        "  result = []\n",
        "  for i in s:\n",
        "    result.append(dict(i))\n",
        "\n",
        "  return result\n",
        "\n",
        "\n",
        "\n",
        "\n",
        "students_marks = {\n",
        "    'Alice': [85, 90, 78],\n",
        "    'Bob': [70, 82, 88],\n",
        "    'Charlie': [95, 85, 90],\n",
        "}\n",
        "\n",
        "s1 = {\n",
        "    '1': 'one',\n",
        "    '2': 'two',\n",
        "    '3': 'three',\n",
        "    '4': 'four',\n",
        "    '5': 'five',\n",
        "}\n",
        "total_marks(students_marks,s1)"
      ],
      "metadata": {
        "colab": {
          "base_uri": "https://localhost:8080/"
        },
        "id": "xWZ_m1SyFoEf",
        "outputId": "697abdec-f032-4ebd-cb8d-e7effd5b0c86"
      },
      "execution_count": null,
      "outputs": [
        {
          "output_type": "execute_result",
          "data": {
            "text/plain": [
              "[{'Alice': [85, 90, 78], 'Bob': [70, 82, 88], 'Charlie': [95, 85, 90]},\n",
              " {'1': 'one', '2': 'two', '3': 'three', '4': 'four', '5': 'five'}]"
            ]
          },
          "metadata": {},
          "execution_count": 13
        }
      ]
    }
  ]
}